{
 "cells": [
  {
   "cell_type": "code",
   "execution_count": 1,
   "id": "8f96ce03",
   "metadata": {},
   "outputs": [],
   "source": [
    "import numpy as np\n",
    "\n",
    "import torch\n",
    "from torch import nn\n",
    "from torch.nn import functional as F\n",
    "from torch.utils.data import Dataset\n",
    "\n",
    "import torchvision\n",
    "import torchvision.transforms as transforms\n",
    "\n",
    "import matplotlib.pyplot as plt\n",
    "from matplotlib.ticker import FormatStrFormatter, MaxNLocator\n",
    "\n",
    "_ = torch.manual_seed(42)"
   ]
  },
  {
   "cell_type": "markdown",
   "id": "0573313e",
   "metadata": {
    "tags": []
   },
   "source": [
    "# Create useful directories\n",
    "We will first create all useful directories used to store figures, datas and models"
   ]
  },
  {
   "cell_type": "code",
   "execution_count": 2,
   "id": "0c9cbdf5",
   "metadata": {},
   "outputs": [],
   "source": [
    "!mkdir -p ../data\n",
    "!mkdir -p ../figures\n",
    "!mkdir -p ../models"
   ]
  },
  {
   "cell_type": "markdown",
   "id": "a632931a",
   "metadata": {
    "tags": []
   },
   "source": [
    "# Helper functions\n",
    "\n",
    "Here are the implementation of some usefull functions"
   ]
  },
  {
   "cell_type": "code",
   "execution_count": 3,
   "id": "a3b43ed4-62e7-47d5-9454-5f886fa4657c",
   "metadata": {},
   "outputs": [],
   "source": [
    "def saveModel(model, model_name, date=True):    \n",
    "    if date: filename = f'..Models/{model_name}_{datetime.now().strftime(\"%Y_%m_%d__%H_%M\")})'\n",
    "    else: filename = f'..Models/{model_name}'\n",
    "    \n",
    "    torch.save(model.state_dict(), filename)"
   ]
  },
  {
   "cell_type": "code",
   "execution_count": 4,
   "id": "5ccf8584-7939-4547-8aaf-a02588534dff",
   "metadata": {},
   "outputs": [],
   "source": [
    "def loadModel(model, model_name):\n",
    "    model.load_state_dict(torch.load(f'./Models/{model_name}'))\n",
    "    model.eval()\n",
    "    return model"
   ]
  },
  {
   "cell_type": "code",
   "execution_count": 5,
   "id": "0b12ab20",
   "metadata": {},
   "outputs": [],
   "source": [
    "def showimgpanel(imgs, n_imgs, panelshape, figsize=(15,15), \n",
    "                 labels=None, labels_prefix=\"Label : \",\n",
    "                 title=\"\", fontsize_title=30, fontsize_label=15, \n",
    "                 savefig=True, savedir=None):\n",
    "    x,y = panelshape\n",
    "    n_imgs = min(imgs.shape[0], n_imgs, x*y)\n",
    "    \n",
    "    fig = plt.figure(figsize = figsize)\n",
    "    fig.suptitle(title, fontsize = fontsize_title)\n",
    "    fig.subplots_adjust(wspace=0.1, hspace=0.2)\n",
    "    \n",
    "    for i in range(n_imgs):\n",
    "        ax = fig.add_subplot(x, y, i+1)\n",
    "        img = imgs[i]\n",
    "        \n",
    "        if labels is None: label = ''\n",
    "        else: label = labels_prefix + str(int(labels[i]))\n",
    "        \n",
    "        showimg(img, ax, title=label, fontsize=fontsize_label, savefig=False)            \n",
    "        \n",
    "    if savefig and filename is not None: plt.savefig(f\"{savedir}{title}.png\")\n",
    "    "
   ]
  },
  {
   "cell_type": "code",
   "execution_count": 6,
   "id": "ce233ff8-78e2-44dd-8bf0-a9e4e18a5969",
   "metadata": {},
   "outputs": [],
   "source": [
    "# Divide dataset into batches\n",
    "\n",
    "def divideInBatches(dataset, batch_size):\n",
    "    # Train set\n",
    "    n_batches = np.ceil(len(dataset)/batch_size)\n",
    "    loader = torch.utils.data.DataLoader(dataset, batch_size=batch_size, shuffle=True)\n",
    "    \n",
    "    return loader, n_batches,"
   ]
  },
  {
   "cell_type": "code",
   "execution_count": 7,
   "id": "9c9b5361-a256-4320-876c-36657a06f2f7",
   "metadata": {},
   "outputs": [],
   "source": [
    "# Check if GPU is available\n",
    "\n",
    "def chooseDevice():\n",
    "    device = \"\"\n",
    "    if torch.cuda.is_available():\n",
    "        device = torch.device(\"cuda\")\n",
    "        print(\"GPU available via cuda\")\n",
    "    else:\n",
    "        device = torch.device(\"cpu\")\n",
    "        print(\"GPU not available, CPU available\")\n",
    "    return device"
   ]
  },
  {
   "cell_type": "code",
   "execution_count": 8,
   "id": "dd35859c",
   "metadata": {},
   "outputs": [],
   "source": [
    "def showimg(img, ax=None, shape=(28, 28), cmap='plasma', title=\"\", fontsize=15, axis=False, savefig=True, savedir=None):\n",
    "    if ax is None: _, ax = plt.subplots()\n",
    "    if not axis: ax.axis('off')\n",
    "        \n",
    "    img = img.reshape(shape)\n",
    "    ax.imshow(img, cmap=cmap)\n",
    "    ax.set_title(title, fontsize=fontsize)\n",
    "    \n",
    "    if savefig and filename is not None: plt.savefig(f\"{filename}{savedir}.png\")"
   ]
  },
  {
   "cell_type": "code",
   "execution_count": 9,
   "id": "5aa31a65-9df3-4101-a0f7-c15051f6ceaa",
   "metadata": {},
   "outputs": [
    {
     "name": "stdout",
     "output_type": "stream",
     "text": [
      "GPU available via cuda\n"
     ]
    }
   ],
   "source": [
    "device = chooseDevice()"
   ]
  },
  {
   "cell_type": "markdown",
   "id": "0009c5bd-55f5-4755-bef1-3a57f1d85f91",
   "metadata": {
    "tags": []
   },
   "source": [
    "# Custom dataset class\n",
    "As we will transform the initial dataset, we are going to use custom classes to store the dataset so the workflow stays the same throughout the notebook"
   ]
  },
  {
   "cell_type": "code",
   "execution_count": 10,
   "id": "1579a869-ccf9-4dce-b562-8269548de432",
   "metadata": {},
   "outputs": [],
   "source": [
    "class ReducedFashionMNISTDataset(Dataset):\n",
    "    \"\"\"\n",
    "    Custom reduced dataset class for workflow logic\n",
    "    \"\"\"\n",
    "    \n",
    "    def __init__(self, data, target, classes):\n",
    "        \"\"\"\n",
    "        Args:\n",
    "            data (tensor): The data\n",
    "            target (tensor): The target class of the data\n",
    "            classes (string list): Ordered list of the classes represented by target\n",
    "        \"\"\"\n",
    "        self.data = data\n",
    "        self.target = target\n",
    "        self.classes = classes\n",
    "        \n",
    "    def __len__(self):\n",
    "        return len(self.data)\n",
    "    \n",
    "    def __getitem__(self, idx):\n",
    "        if torch.is_tensor(idx):\n",
    "            idx = idc.tolist()\n",
    "        return (self.data[idx], self.labels[ids],)\n",
    "    \n",
    "    def __repr__(self):\n",
    "        return f'Dataset Reduced FashionMNIST\\n    Number of datapoints: {self.__len__()}'\n",
    "    \n",
    "    def __str__(self):\n",
    "        return self.__repr__()"
   ]
  },
  {
   "cell_type": "markdown",
   "id": "f30240c5",
   "metadata": {
    "tags": []
   },
   "source": [
    "# Define datasets\n",
    "We first download the fashionMNIST dataset using the dataset module of the pytorch library.\n",
    "Then we reduce the model to 20% of its original size to have a lowerbound for our data augmentation performances."
   ]
  },
  {
   "cell_type": "code",
   "execution_count": 11,
   "id": "3549e1ab",
   "metadata": {},
   "outputs": [],
   "source": [
    "transform = transforms.Compose([transforms.ToTensor(), transforms.Normalize((0.5), (0.5))])\n",
    "\n",
    "test_set = torchvision.datasets.FashionMNIST(root=\"../data/\", train=False, download=True, transform=transform)\n",
    "test_set_size = len(test_set)\n",
    "\n",
    "full_train_set = torchvision.datasets.FashionMNIST(root=\"../data/\", train=True, download=True, transform=transform)\n",
    "full_train_set_size = len(full_train_set)"
   ]
  },
  {
   "cell_type": "code",
   "execution_count": 12,
   "id": "1dad8e54-1b13-4fc3-8b46-d4aebb1280bd",
   "metadata": {},
   "outputs": [],
   "source": [
    "reduction_factor = 0.05\n",
    "\n",
    "idxs = np.random.choice(np.arange(full_train_set_size), int(full_train_set_size*reduction_factor) ,replace=False)\n",
    "\n",
    "# Normalize the data from [-1. to 1.]\n",
    "reduced_data  = full_train_set.data[idxs].float()\n",
    "reduced_data /= reduced_data.max() - reduced_data.min()\n",
    "reduced_data  = 2. * reduced_data - 1.\n",
    "\n",
    "reduced_labels = full_train_set.targets[idxs]"
   ]
  },
  {
   "cell_type": "code",
   "execution_count": 13,
   "id": "d910b468-14d4-490b-b7f3-56cea23dbb73",
   "metadata": {},
   "outputs": [],
   "source": [
    "reduced_train_set = torch.utils.data.TensorDataset(reduced_data, reduced_labels) #ReducedFashionMNISTDataset(reduced_data, reduced_labels, full_train_set.classes)"
   ]
  },
  {
   "cell_type": "code",
   "execution_count": 14,
   "id": "46d66134-e398-44a4-aee6-88a045277eb9",
   "metadata": {},
   "outputs": [],
   "source": [
    "# Delete some, now, useless variables\n",
    "del reduction_factor, idxs, reduced_data, reduced_labels"
   ]
  },
  {
   "cell_type": "code",
   "execution_count": 15,
   "id": "6a437a18-eeeb-4364-81e2-571c3e873050",
   "metadata": {},
   "outputs": [],
   "source": [
    "batch_size = 32"
   ]
  },
  {
   "cell_type": "code",
   "execution_count": 16,
   "id": "c9450622-1f3d-4ec2-92dc-bd309f54ee12",
   "metadata": {},
   "outputs": [],
   "source": [
    "# Create base loader\n",
    "full_train_loader,    full_train_n_batches    = divideInBatches(full_train_set, batch_size)\n",
    "reduced_train_loader, reduced_train_n_batches = divideInBatches(reduced_train_set, batch_size)\n",
    "test_loader,          test_n_batches          = divideInBatches(test_set, batch_size)"
   ]
  },
  {
   "cell_type": "markdown",
   "id": "30f7651e-8d1b-46c0-aa67-b09f99a4e372",
   "metadata": {
    "tags": []
   },
   "source": [
    "# Model definition\n",
    "Here we will define the architecture of our models"
   ]
  },
  {
   "cell_type": "markdown",
   "id": "0e82e482-27ac-48bc-8c09-c969f9b9e262",
   "metadata": {},
   "source": [
    "## CNN model"
   ]
  },
  {
   "cell_type": "code",
   "execution_count": 19,
   "id": "83264978-bb47-4d01-951b-89454ed7b9d5",
   "metadata": {},
   "outputs": [],
   "source": [
    "class CNN(nn.Module):\n",
    "    def __init__(self, n_classes):\n",
    "        super(CNN, self).__init__()\n",
    "        self.n_classes = n_classes\n",
    "        self.conv1 = nn.Sequential(             # Images input is batch_size*1*28*28\n",
    "            nn.Conv2d(1, 16, 5, 1, 2),          # Output is batch_size*16*28*28\n",
    "            nn.ReLU(),                      \n",
    "            nn.MaxPool2d(kernel_size=2),        # Output is batch_size*16*14*14\n",
    "        )\n",
    "        self.conv2 = nn.Sequential(         \n",
    "            nn.Conv2d(16, 32, 5, 1, 2),         # Output is batch_size*32*14*14\n",
    "            nn.ReLU(),                      \n",
    "            nn.MaxPool2d(2),                    # Output is batch_size*32*7*7\n",
    "        )\n",
    "        # fully connected layer, output one number for each class\n",
    "        self.out = nn.Sequential(         \n",
    "            nn.Linear(32 * 7 * 7, self.n_classes),          # Output is batch_size*n_classes\n",
    "        )\n",
    "    \n",
    "    def scaleToProbabilities(self, outmap, scale_factor = 3): \n",
    "        # scale_factor allows to scale your output before passing it into the softmax function \n",
    "        # in order to get numbers interpratble as probabilities\n",
    "        \n",
    "        flattened_outmap = outmap.view(outmap.shape[0], -1)\n",
    "        outmap_std = torch.std(flattened_outmap, dim = 1).view(-1, 1)\n",
    "        outmap_scaled_std = torch.div(outmap, outmap_std)\n",
    "        probabilities = nn.functional.softmax(outmap_scaled_std*scale_factor, dim=1)\n",
    "        return probabilities\n",
    "    \n",
    "    def predictLabels(self, outmap, scale_factor = 3):\n",
    "        probabilities = self.scaleToProbabilities(outmap, scale_factor = 3)\n",
    "        certainty, predicted_labels = torch.max(probabilities, 1)\n",
    "        predicted_labels = predicted_labels.data.squeeze()\n",
    "        certainty = certainty.data.squeeze()\n",
    "        return predicted_labels, probabilities, certainty\n",
    "        \n",
    "    def forward(self, x):\n",
    "        x = self.conv1(x)\n",
    "        x = self.conv2(x)\n",
    "        x = x.view(x.size(0), 32 * 7 * 7)\n",
    "        output = self.out(x)\n",
    "        return output"
   ]
  },
  {
   "cell_type": "markdown",
   "id": "6b19036c-4700-4f13-9d5f-6d4e117dde6f",
   "metadata": {
    "tags": []
   },
   "source": [
    "# Training of the CNN"
   ]
  },
  {
   "cell_type": "code",
   "execution_count": 20,
   "id": "966f4ea3-67a6-4df0-aa92-86724e722d3f",
   "metadata": {},
   "outputs": [],
   "source": [
    "n_epoch_cnn = 5\n",
    "n_classes = len(full_train_set.classes)"
   ]
  },
  {
   "cell_type": "code",
   "execution_count": 21,
   "id": "53cba000-a858-40f0-a16e-0450832560ce",
   "metadata": {},
   "outputs": [],
   "source": [
    "def computeCNNAccuracy(y_predicted,y_true):\n",
    "    accuracy = 0.0\n",
    "    accuracy = torch.sum(y_predicted == y_true).item()/y_true.shape[0]\n",
    "    return accuracy"
   ]
  },
  {
   "cell_type": "code",
   "execution_count": 22,
   "id": "c6dab106-5d69-489e-8dc9-7b55f6f51d11",
   "metadata": {},
   "outputs": [],
   "source": [
    "def evaluate_raw_performances(cnn, train_loader, test_loader, train_n_batches, test_n_batches,\n",
    "                              losses_train, accuracies_train, accuracies_test, \n",
    "                              loss_function, optimizer):\n",
    "    cnn.eval()\n",
    "    for batch_id, (data, labels) in enumerate(train_loader):\n",
    "        data = data.reshape((-1,1,28,28))\n",
    "        data = data.to(device)\n",
    "        labels = labels.to(device)\n",
    "\n",
    "        pred = cnn(data)\n",
    "\n",
    "        labels_pred, labels_prob, _ = cnn.predictLabels(pred)\n",
    "\n",
    "        target_prob = torch.zeros_like(labels_prob)\n",
    "        for i,j in enumerate(labels):\n",
    "            target_prob[i][j] = 1\n",
    "        target_prob = target_prob.to(device)\n",
    "\n",
    "        loss = loss_function(labels_prob, target_prob)\n",
    "        \n",
    "        optimizer.zero_grad()\n",
    "        \n",
    "        losses_train[0] += loss.item()\n",
    "        accuracies_train[0] += computeCNNAccuracy(labels_pred, labels)\n",
    "\n",
    "    accuracies_train[0] /= train_n_batches\n",
    "    losses_train[0] /= train_n_batches\n",
    "\n",
    "    cnn.eval()\n",
    "    for batch_id, (data, labels) in enumerate(test_loader):\n",
    "        data = data.to(device)\n",
    "        labels = labels.to(device)\n",
    "        pred = cnn(data)\n",
    "\n",
    "        labels_pred, _, _ = cnn.predictLabels(pred)\n",
    "\n",
    "        accuracies_test[0] += computeCNNAccuracy(labels_pred, labels)\n",
    "\n",
    "    accuracies_test[0] /= test_n_batches\n",
    "\n",
    "    print(f\"Accuracy during training: {accuracies_train[0]*100:.2f}%\")\n",
    "    print(f\"Accuracy during test:     {accuracies_test[0]*100:.2f}%\")\n",
    "    print(f\"Loss during training:     {losses_train[0]:.2f}\")"
   ]
  },
  {
   "cell_type": "code",
   "execution_count": 23,
   "id": "03d4a95a-85cf-45bc-a458-4652f286a80b",
   "metadata": {},
   "outputs": [],
   "source": [
    "def train_cnn(cnn, train_loader, test_loader, train_n_batches, test_n_batches,\n",
    "              losses_train, accuracies_train, accuracies_test, \n",
    "              loss_function, optimizer, n_epoch):\n",
    "    # Training of the CNN\n",
    "    for epoch in range(n_epoch):\n",
    "        cnn.train()\n",
    "        for batch_id, (data, labels) in enumerate(train_loader):\n",
    "            data = data.reshape((-1,1,28,28))\n",
    "            data = data.to(device)\n",
    "            labels = labels.to(device)\n",
    "\n",
    "            pred = cnn(data)\n",
    "\n",
    "            labels_pred, labels_prob, _ = cnn.predictLabels(pred)\n",
    "\n",
    "            target_prob = torch.zeros_like(labels_prob)\n",
    "            for i,j in enumerate(labels):\n",
    "                target_prob[i][j] = 1\n",
    "            target_prob = target_prob.to(device)\n",
    "\n",
    "            loss = loss_function(labels_prob, target_prob)\n",
    "\n",
    "            optimizer.zero_grad()\n",
    "            loss.backward()\n",
    "            optimizer.step()\n",
    "\n",
    "            losses_train[epoch + 1] += loss.item()\n",
    "            accuracies_train[epoch + 1] += computeCNNAccuracy(labels_pred, labels)\n",
    "\n",
    "        accuracies_train[epoch + 1] /= train_n_batches\n",
    "        losses_train[epoch + 1] /= train_n_batches\n",
    "\n",
    "        cnn.eval()\n",
    "        for batch_id, (real, labels) in enumerate(test_loader):\n",
    "            real = real.to(device)\n",
    "            labels = labels.to(device)\n",
    "            pred = cnn(real)\n",
    "\n",
    "            labels_pred, _, _ = cnn.predictLabels(pred)\n",
    "\n",
    "            accuracies_test[epoch + 1] += computeCNNAccuracy(labels_pred, labels)\n",
    "\n",
    "        accuracies_test[epoch + 1] /= test_n_batches\n",
    "\n",
    "        print(f\"Epoch [{epoch + 1:2d}/{n_epoch:2d}] \\\n",
    "                Accuracy: {accuracies_test[epoch + 1]:.4f} \\\n",
    "                Loss:     {losses_train[epoch + 1]:.4f}\")"
   ]
  },
  {
   "cell_type": "markdown",
   "id": "6f8379ea-1a34-4207-aff9-cf60798f1b6a",
   "metadata": {
    "tags": []
   },
   "source": [
    "## Train CNN on full data set"
   ]
  },
  {
   "cell_type": "code",
   "execution_count": 24,
   "id": "06d697d6-689d-41aa-8b95-aa4d8b691e74",
   "metadata": {},
   "outputs": [],
   "source": [
    "cnn_full = CNN(n_classes).to(device=device)"
   ]
  },
  {
   "cell_type": "code",
   "execution_count": 25,
   "id": "266f5b45-0be0-4888-853c-65c72127b461",
   "metadata": {},
   "outputs": [],
   "source": [
    "# Loss function for the CNN\n",
    "loss_function_cnn_full = nn.CrossEntropyLoss()"
   ]
  },
  {
   "cell_type": "code",
   "execution_count": 26,
   "id": "6b0d2bbc-3a38-4ea9-aa22-ffa547c4d584",
   "metadata": {},
   "outputs": [],
   "source": [
    "# Adam optimization parameters\n",
    "lr_cnn_full = 0.001\n",
    "betas_cnn_full = (0.9, 0.999)\n",
    "\n",
    "optimizer_cnn_full = torch.optim.Adam(cnn_full.parameters(), lr=lr_cnn_full, betas = betas_cnn_full)"
   ]
  },
  {
   "cell_type": "code",
   "execution_count": 27,
   "id": "26a8149f-20e6-4e7a-856e-f9940125eed2",
   "metadata": {},
   "outputs": [
    {
     "name": "stdout",
     "output_type": "stream",
     "text": [
      "Accuracy during training: 10.02%\n",
      "Accuracy during test:     10.01%\n",
      "Loss during training:     2.35\n",
      "\n",
      "CPU times: user 14.3 s, sys: 313 ms, total: 14.6 s\n",
      "Wall time: 14.6 s\n"
     ]
    }
   ],
   "source": [
    "%%time\n",
    "\n",
    "# Error metrics at initialisation\n",
    "\n",
    "losses_train_cnn_full     = np.zeros(n_epoch_cnn+1)\n",
    "accuracies_train_cnn_full = np.zeros(n_epoch_cnn+1)\n",
    "accuracies_test_cnn_full  = np.zeros(n_epoch_cnn+1)\n",
    "\n",
    "evaluate_raw_performances(cnn_full, full_train_loader, test_loader, full_train_n_batches, test_n_batches,\n",
    "                          losses_train_cnn_full, accuracies_train_cnn_full, accuracies_test_cnn_full, \n",
    "                          loss_function_cnn_full, optimizer_cnn_full)\n",
    "print()"
   ]
  },
  {
   "cell_type": "code",
   "execution_count": 28,
   "id": "02b02aad-02c7-488a-93b2-128e1135c156",
   "metadata": {},
   "outputs": [
    {
     "name": "stdout",
     "output_type": "stream",
     "text": [
      "Epoch [ 1/ 5]                 Accuracy: 0.8787                 Loss:     1.6409\n",
      "Epoch [ 2/ 5]                 Accuracy: 0.8875                 Loss:     1.5791\n",
      "Epoch [ 3/ 5]                 Accuracy: 0.8928                 Loss:     1.5663\n",
      "Epoch [ 4/ 5]                 Accuracy: 0.8950                 Loss:     1.5579\n",
      "Epoch [ 5/ 5]                 Accuracy: 0.9011                 Loss:     1.5525\n",
      "\n",
      "CPU times: user 1min 29s, sys: 199 ms, total: 1min 29s\n",
      "Wall time: 1min 29s\n"
     ]
    }
   ],
   "source": [
    "%%time\n",
    "train_cnn(cnn_full, full_train_loader, test_loader, full_train_n_batches, test_n_batches,\n",
    "          losses_train_cnn_full, accuracies_train_cnn_full, accuracies_test_cnn_full, \n",
    "          loss_function_cnn_full, optimizer_cnn_full,n_epoch_cnn)\n",
    "\n",
    "print()"
   ]
  },
  {
   "cell_type": "code",
   "execution_count": 29,
   "id": "ea0f7be3-606b-4d39-a372-ba79baf53b94",
   "metadata": {},
   "outputs": [
    {
     "data": {
      "image/png": "[encoded data removed]",
      "text/plain": [
       "<Figure size 1200x1200 with 2 Axes>"
      ]
     },
     "metadata": {},
     "output_type": "display_data"
    }
   ],
   "source": [
    "# Plots of accuracy and of loss function, images generated from your reference sample.\n",
    "epochs = np.arange(n_epoch_cnn+1)\n",
    "fig, (ax1, ax2) = plt.subplots(2, 1, figsize=(12,12))\n",
    "\n",
    "ax1.plot(epochs, accuracies_train_cnn_full, label = \"Error during training\")\n",
    "ax1.plot(epochs, accuracies_test_cnn_full, label = \"Error during test\")\n",
    "ax1.set_title('Accuracies')\n",
    "ax1.set_xlabel('Epoch')\n",
    "ax1.legend()\n",
    "\n",
    "ax2.plot(epochs, losses_train_cnn_full)\n",
    "ax2.set_title('CNN loss with full dataset')\n",
    "ax2.set_xlabel('Epoch')\n",
    "\n",
    "\n",
    "for ax in (ax1, ax2):\n",
    "    ax.xaxis.set_major_locator(MaxNLocator(integer=True))\n",
    "    ax.xaxis.set_major_formatter(FormatStrFormatter('%.0f'))\n",
    "\n",
    "#plt.savefig(\"../figures/CNN_Metrics.png\")"
   ]
  },
  {
   "cell_type": "code",
   "execution_count": 30,
   "id": "927614e7-be5d-493f-a5af-9d033d54e78b",
   "metadata": {},
   "outputs": [],
   "source": [
    "# Delete some, now, useless variables\n",
    "del loss_function_cnn_full, lr_cnn_full, betas_cnn_full, optimizer_cnn_full"
   ]
  },
  {
   "cell_type": "markdown",
   "id": "695f5b7e-5f76-4a0e-9cbc-21bcc50eb441",
   "metadata": {
    "tags": []
   },
   "source": [
    "## Train CNN on reduced data set"
   ]
  },
  {
   "cell_type": "code",
   "execution_count": 31,
   "id": "fdbadefe-8e7c-4d03-acc7-2a020bd43383",
   "metadata": {},
   "outputs": [],
   "source": [
    "cnn_reduced = CNN(n_classes).to(device=device)"
   ]
  },
  {
   "cell_type": "code",
   "execution_count": 32,
   "id": "03fad045-4731-44db-ba9c-2db469386fb7",
   "metadata": {},
   "outputs": [],
   "source": [
    "# Loss function for the CNN\n",
    "loss_function_cnn_reduced = nn.CrossEntropyLoss()"
   ]
  },
  {
   "cell_type": "code",
   "execution_count": 33,
   "id": "c97aa99f-cd59-4ef2-bfca-91d46dadf345",
   "metadata": {},
   "outputs": [],
   "source": [
    "# Adam optimization parameters\n",
    "lr_cnn_reduced = 0.001\n",
    "betas_cnn_reduced = (0.9, 0.999)\n",
    "\n",
    "optimizer_cnn_reduced = torch.optim.Adam(cnn_reduced.parameters(), lr=lr_cnn_reduced, betas = betas_cnn_reduced)"
   ]
  },
  {
   "cell_type": "code",
   "execution_count": 34,
   "id": "689ae354-08f5-470f-b1a0-0a7452f13ce3",
   "metadata": {},
   "outputs": [
    {
     "name": "stdout",
     "output_type": "stream",
     "text": [
      "Accuracy during training: 5.33%\n",
      "Accuracy during test:     5.71%\n",
      "Loss during training:     2.37\n",
      "\n",
      "CPU times: user 1.99 s, sys: 4.01 ms, total: 1.99 s\n",
      "Wall time: 2 s\n"
     ]
    }
   ],
   "source": [
    "%%time\n",
    "\n",
    "# Error metrics at initialisation\n",
    "\n",
    "losses_train_cnn_reduced     = np.zeros(n_epoch_cnn+1)\n",
    "accuracies_train_cnn_reduced = np.zeros(n_epoch_cnn+1)\n",
    "accuracies_test_cnn_reduced  = np.zeros(n_epoch_cnn+1)\n",
    "\n",
    "evaluate_raw_performances(cnn_reduced, reduced_train_loader, test_loader, reduced_train_n_batches, test_n_batches,\n",
    "                          losses_train_cnn_reduced, accuracies_train_cnn_reduced, accuracies_test_cnn_reduced, \n",
    "                          loss_function_cnn_reduced, optimizer_cnn_reduced)\n",
    "\n",
    "print()"
   ]
  },
  {
   "cell_type": "code",
   "execution_count": 35,
   "id": "eae375d7-6ce9-41f0-800b-b09d03309cb0",
   "metadata": {},
   "outputs": [
    {
     "name": "stdout",
     "output_type": "stream",
     "text": [
      "Epoch [ 1/ 5]                 Accuracy: 0.7541                 Loss:     1.8942\n",
      "Epoch [ 2/ 5]                 Accuracy: 0.8074                 Loss:     1.6819\n",
      "Epoch [ 3/ 5]                 Accuracy: 0.8269                 Loss:     1.6322\n",
      "Epoch [ 4/ 5]                 Accuracy: 0.8162                 Loss:     1.6102\n",
      "Epoch [ 5/ 5]                 Accuracy: 0.8445                 Loss:     1.5907\n",
      "\n",
      "CPU times: user 10.5 s, sys: 8.85 ms, total: 10.5 s\n",
      "Wall time: 10.6 s\n"
     ]
    }
   ],
   "source": [
    "%%time\n",
    "train_cnn(cnn_reduced, reduced_train_loader, test_loader, reduced_train_n_batches, test_n_batches,\n",
    "          losses_train_cnn_reduced, accuracies_train_cnn_reduced, accuracies_test_cnn_reduced, \n",
    "          loss_function_cnn_reduced, optimizer_cnn_reduced,n_epoch_cnn)\n",
    "\n",
    "print()"
   ]
  },
  {
   "cell_type": "code",
   "execution_count": 36,
   "id": "cd923609-278b-4e04-b982-ea01c3751b09",
   "metadata": {},
   "outputs": [
    {
     "data": {
      "image/png": "[encoded data removed]",
      "text/plain": [
       "<Figure size 1200x1200 with 2 Axes>"
      ]
     },
     "metadata": {},
     "output_type": "display_data"
    }
   ],
   "source": [
    "# Plots of accuracy and of loss function, images generated from your reference sample.\n",
    "epochs = np.arange(n_epoch_cnn+1)\n",
    "fig, (ax1, ax2) = plt.subplots(2, 1, figsize=(12,12))\n",
    "\n",
    "ax1.plot(epochs, accuracies_train_cnn_reduced, label = \"Error during training\")\n",
    "ax1.plot(epochs, accuracies_test_cnn_reduced, label = \"Error during test\")\n",
    "ax1.set_title('Accuracies')\n",
    "ax1.set_xlabel('Epoch')\n",
    "ax1.legend()\n",
    "\n",
    "ax2.plot(epochs, losses_train_cnn_reduced)\n",
    "ax2.set_title('CNN loss with reduced dataset')\n",
    "ax2.set_xlabel('Epoch')\n",
    "\n",
    "\n",
    "for ax in (ax1, ax2):\n",
    "    ax.xaxis.set_major_locator(MaxNLocator(integer=True))\n",
    "    ax.xaxis.set_major_formatter(FormatStrFormatter('%.0f'))\n",
    "\n",
    "#plt.savefig(\"../figures/CNN_Metrics.png\")"
   ]
  },
  {
   "cell_type": "code",
   "execution_count": 37,
   "id": "b029e6f6-1d8e-4e07-8f77-6293b4b57840",
   "metadata": {},
   "outputs": [],
   "source": [
    "# Delete some, now, useless variables\n",
    "del loss_function_cnn_reduced, lr_cnn_reduced, betas_cnn_reduced, optimizer_cnn_reduced"
   ]
  },
  {
   "cell_type": "code",
   "execution_count": null,
   "id": "4b198754-3703-407d-957c-c4c244ba53bf",
   "metadata": {},
   "outputs": [],
   "source": []
  }
 ],
 "metadata": {
  "kernelspec": {
   "display_name": "Python 3 (ipykernel)",
   "language": "python",
   "name": "python3"
  },
  "language_info": {
   "codemirror_mode": {
    "name": "ipython",
    "version": 3
   },
   "file_extension": ".py",
   "mimetype": "text/x-python",
   "name": "python",
   "nbconvert_exporter": "python",
   "pygments_lexer": "ipython3",
   "version": "3.9.13"
  }
 },
 "nbformat": 4,
 "nbformat_minor": 5
}
