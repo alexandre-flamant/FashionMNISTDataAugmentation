{
 "cells": [
  {
   "cell_type": "code",
   "execution_count": 1,
   "id": "8f96ce03",
   "metadata": {},
   "outputs": [],
   "source": [
    "import os\n",
    "\n",
    "import numpy as np\n",
    "import scipy as sc\n",
    "import pandas as pd\n",
    "\n",
    "import torch\n",
    "#from tensorflow import keras\n",
    "\n",
    "import matplotlib.pyplot as plt"
   ]
  },
  {
   "cell_type": "markdown",
   "id": "0573313e",
   "metadata": {},
   "source": [
    "# Extract and list files in dataset"
   ]
  },
  {
   "cell_type": "code",
   "execution_count": 13,
   "id": "0c9cbdf5",
   "metadata": {},
   "outputs": [],
   "source": [
    "!unzip -nqq ../fashionMNIST.zip -d ../data/fashion_mnist/"
   ]
  },
  {
   "cell_type": "code",
   "execution_count": 15,
   "id": "513d8f22",
   "metadata": {},
   "outputs": [
    {
     "name": "stdout",
     "output_type": "stream",
     "text": [
      "Files in dataset:\n",
      "\n",
      "../data/fashion_mnist/fashion-mnist_test.csv\n",
      "../data/fashion_mnist/fashion-mnist_train.csv\n",
      "../data/fashion_mnist/t10k-images-idx3-ubyte\n",
      "../data/fashion_mnist/t10k-labels-idx1-ubyte\n",
      "../data/fashion_mnist/train-images-idx3-ubyte\n",
      "../data/fashion_mnist/train-labels-idx1-ubyte\n"
     ]
    }
   ],
   "source": [
    "print(\"Files in dataset:\\n\")\n",
    "\n",
    "for directory, _, filenames in os.walk(\"../data/fashion_mnist/\"):\n",
    "    for filename in filenames:\n",
    "        print(os.path.join(directory, filename))\n",
    "        "
   ]
  },
  {
   "cell_type": "markdown",
   "id": "f30240c5",
   "metadata": {},
   "source": [
    "# Helper functions"
   ]
  },
  {
   "cell_type": "code",
   "execution_count": null,
   "id": "ec53bbb2",
   "metadata": {},
   "outputs": [],
   "source": []
  }
 ],
 "metadata": {
  "kernelspec": {
   "display_name": "Python 3 (ipykernel)",
   "language": "python",
   "name": "python3"
  },
  "language_info": {
   "codemirror_mode": {
    "name": "ipython",
    "version": 3
   },
   "file_extension": ".py",
   "mimetype": "text/x-python",
   "name": "python",
   "nbconvert_exporter": "python",
   "pygments_lexer": "ipython3",
   "version": "3.9.13"
  }
 },
 "nbformat": 4,
 "nbformat_minor": 5
}
