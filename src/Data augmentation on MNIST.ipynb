{
 "cells": [
  {
   "cell_type": "code",
   "execution_count": 1,
   "id": "8f96ce03",
   "metadata": {},
   "outputs": [
    {
     "data": {
      "text/plain": [
       "<torch._C.Generator at 0x7f63f027f110>"
      ]
     },
     "execution_count": 1,
     "metadata": {},
     "output_type": "execute_result"
    }
   ],
   "source": [
    "import os\n",
    "\n",
    "import numpy as np\n",
    "import scipy as sc\n",
    "import pandas as pd\n",
    "\n",
    "import torch\n",
    "from torch import nn\n",
    "import torch.nn.functional as F\n",
    "\n",
    "import torchvision\n",
    "import torchvision.transforms as transforms\n",
    "\n",
    "import matplotlib.pyplot as plt\n",
    "from matplotlib.ticker import FormatStrFormatter, MaxNLocator\n",
    "\n",
    "torch.manual_seed(17)"
   ]
  },
  {
   "cell_type": "markdown",
   "id": "0573313e",
   "metadata": {},
   "source": [
    "# Extract and list files in dataset\n",
    "Dataset is stored in an archives so it can be uploaded to github.\n",
    "The archive is created in the data/fashionMNIST directory which is created if it does not exists.\n",
    "\n",
    "The notebook also create directories in which save figures and models."
   ]
  },
  {
   "cell_type": "code",
   "execution_count": 2,
   "id": "0c9cbdf5",
   "metadata": {},
   "outputs": [],
   "source": [
    "!mkdir -p ../data\n",
    "!mkdir -p ../figures\n",
    "!mkdir -p ../models"
   ]
  },
  {
   "cell_type": "markdown",
   "id": "f30240c5",
   "metadata": {
    "tags": []
   },
   "source": [
    "# Read dataset\n",
    "\n",
    "Read the dataset from the data/fashionMNIST directory"
   ]
  },
  {
   "cell_type": "code",
   "execution_count": 3,
   "id": "d57fe8fb",
   "metadata": {},
   "outputs": [],
   "source": [
    "# Useful constants\n",
    "img_shape = (28,28)\n",
    "batch_size = 128\n",
    "n_classes = 10"
   ]
  },
  {
   "cell_type": "code",
   "execution_count": 4,
   "id": "3549e1ab",
   "metadata": {},
   "outputs": [],
   "source": [
    "transform = transforms.Compose([transforms.ToTensor(), transforms.Normalize((0.5), (0.5))])\n",
    "\n",
    "train_set = torchvision.datasets.FashionMNIST(root=\"../data/\", train=True, download=True, transform=transform)\n",
    "train_set_size = len(train_set)\n",
    "\n",
    "test_set = torchvision.datasets.FashionMNIST(root=\"../data/\", train=False, download=True, transform=transform)\n",
    "test_set_size = len(test_set)\n",
    "\n",
    "n_batches_train = np.ceil(train_set_size/batch_size)\n",
    "train_loader = torch.utils.data.DataLoader(train_set, batch_size=batch_size, shuffle=True)\n",
    "    \n",
    "n_batches_test = np.ceil(test_set_size/batch_size)\n",
    "test_loader = torch.utils.data.DataLoader(test_set, batch_size=batch_size, shuffle=True)"
   ]
  },
  {
   "cell_type": "code",
   "execution_count": 5,
   "id": "205ec32c-b092-4c85-b9c1-70a897c49efd",
   "metadata": {},
   "outputs": [],
   "source": [
    "labels_name = {0: \"Top\",\n",
    "               1: \"Trouser\",\n",
    "               2: \"Pullover\",\n",
    "               3: \"Dress\",\n",
    "               4: \"Coat\",\n",
    "               5: \"Sandal\",\n",
    "               6: \"Shirt\",\n",
    "               7: \"Sneaker\",\n",
    "               8: \"Bag\",\n",
    "               9: \"Ankle boot\"}"
   ]
  },
  {
   "cell_type": "markdown",
   "id": "a632931a",
   "metadata": {
    "tags": []
   },
   "source": [
    "# Helper functions\n",
    "\n",
    "Here are the implementation of some usefull functions"
   ]
  },
  {
   "cell_type": "code",
   "execution_count": 6,
   "id": "dd35859c",
   "metadata": {},
   "outputs": [],
   "source": [
    "def showimg(img, ax=None, shape=(28, 28), cmap='plasma', title=\"\", fontsize=15, axis=False, savefig=True, savedir=None):\n",
    "    if ax is None: _, ax = plt.subplots()\n",
    "    if not axis: ax.axis('off')\n",
    "        \n",
    "    img = img.reshape(shape)\n",
    "    ax.imshow(img, cmap=cmap)\n",
    "    ax.set_title(title, fontsize=fontsize)\n",
    "    \n",
    "    if savefig and filename is not None: plt.savefig(f\"{filename}{savedir}.png\")"
   ]
  },
  {
   "cell_type": "code",
   "execution_count": 7,
   "id": "0b12ab20",
   "metadata": {},
   "outputs": [],
   "source": [
    "def showimgpanel(imgs, n_imgs, panelshape, figsize=(15,15), \n",
    "                 labels=None, labels_prefix=\"Label : \",\n",
    "                 title=\"\", fontsize_title=30, fontsize_label=15, \n",
    "                 savefig=True, savedir=None):\n",
    "    x,y = panelshape\n",
    "    n_imgs = min(imgs.shape[0], n_imgs, x*y)\n",
    "    \n",
    "    fig = plt.figure(figsize = figsize)\n",
    "    fig.suptitle(title, fontsize = fontsize_title)\n",
    "    fig.subplots_adjust(wspace=0.1, hspace=0.2)\n",
    "    \n",
    "    for i in range(n_imgs):\n",
    "        ax = fig.add_subplot(x, y, i+1)\n",
    "        img = imgs[i]\n",
    "        \n",
    "        if labels is None: label = ''\n",
    "        else: label = labels_prefix + str(int(labels[i]))\n",
    "        \n",
    "        showimg(img, ax, title=label, fontsize=fontsize_label, savefig=False)            \n",
    "        \n",
    "    if savefig and filename is not None: plt.savefig(f\"{savedir}{title}.png\")\n",
    "    "
   ]
  },
  {
   "cell_type": "code",
   "execution_count": 8,
   "id": "ce233ff8-78e2-44dd-8bf0-a9e4e18a5969",
   "metadata": {},
   "outputs": [],
   "source": [
    "# Divide dataset into batches\n",
    "\n",
    "def divideInBatches(train_set, test_set, batch_size, n_train_set, n_test_set):\n",
    "    # Train set\n",
    "    n_batches_total = math.ceil(n_train_set/batch_size)\n",
    "    train_loader = torch.utils.data.DataLoader(train_set, batch_size=batch_size, shuffle=True)\n",
    "    \n",
    "    # Test set\n",
    "    n_batches_total_test = math.ceil(n_test_set/batch_size)\n",
    "    test_loader = torch.utils.data.DataLoader(test_set, batch_size=batch_size, shuffle=True)\n",
    "    \n",
    "    return train_loader, test_loader, n_batches_total, n_batches_total_test"
   ]
  },
  {
   "cell_type": "code",
   "execution_count": 9,
   "id": "9c9b5361-a256-4320-876c-36657a06f2f7",
   "metadata": {},
   "outputs": [],
   "source": [
    "# Check if GPU is available\n",
    "\n",
    "def chooseDevice():\n",
    "    device = \"\"\n",
    "    if torch.cuda.is_available():\n",
    "        device = torch.device(\"cuda\")\n",
    "        print(\"GPU available via cuda\")\n",
    "    else:\n",
    "        device = torch.device(\"cpu\")\n",
    "        print(\"GPU not available, CPU available\")\n",
    "    return device"
   ]
  },
  {
   "cell_type": "code",
   "execution_count": 10,
   "id": "de024474-e4b3-485e-bbf2-48cb57510964",
   "metadata": {},
   "outputs": [],
   "source": [
    "def numberParameters(model, trainable = False, model_name = None):\n",
    "    total_params = sum(param.numel() for param in model.parameters())\n",
    "    if model_name != None:\n",
    "        print(\"Number of parameters of \" + model_name + \": \" + str(total_params))\n",
    "    return total_params"
   ]
  },
  {
   "cell_type": "code",
   "execution_count": 11,
   "id": "5aa31a65-9df3-4101-a0f7-c15051f6ceaa",
   "metadata": {},
   "outputs": [
    {
     "name": "stdout",
     "output_type": "stream",
     "text": [
      "GPU available via cuda\n"
     ]
    }
   ],
   "source": [
    "device = chooseDevice()"
   ]
  },
  {
   "cell_type": "markdown",
   "id": "30f7651e-8d1b-46c0-aa67-b09f99a4e372",
   "metadata": {
    "tags": []
   },
   "source": [
    "# Model definition\n",
    "Here we will define the architecture of our models"
   ]
  },
  {
   "cell_type": "code",
   "execution_count": 12,
   "id": "778e5dbe-e6a9-44df-8e9b-907b950a52b6",
   "metadata": {},
   "outputs": [],
   "source": [
    "# PARALETERS\n",
    "dim_latent_space = 100\n",
    "n_epoch_gan = 5\n"
   ]
  },
  {
   "cell_type": "markdown",
   "id": "2a01d2e6-0abb-4050-9c07-b21dc7203642",
   "metadata": {},
   "source": [
    "## Generator model"
   ]
  },
  {
   "cell_type": "code",
   "execution_count": 13,
   "id": "f9feb9f6-f082-4af8-b1dc-e358d038217f",
   "metadata": {},
   "outputs": [],
   "source": [
    "class Generator(nn.Module):\n",
    "\n",
    "    def __init__(self, dim_latent_space):\n",
    "        super().__init__()\n",
    "        self.dim_latent_space = dim_latent_space\n",
    "        self.fc = nn.Linear(self.dim_latent_space, 64*7*7)\n",
    "        self.trans_conv1 = nn.ConvTranspose2d(64, 64, kernel_size = 3, stride = 2, padding = 1, output_padding = 1)\n",
    "        self.batch_norm1 = nn.BatchNorm2d(64)\n",
    "        self.trans_conv2 = nn.ConvTranspose2d(64, 32, kernel_size = 3, stride = 1, padding = 1)\n",
    "        self.batch_norm2 = nn.BatchNorm2d(32)\n",
    "        self.trans_conv3 = nn.ConvTranspose2d(32, 16, kernel_size = 3, stride = 1, padding = 1)\n",
    "        self.batch_norm3 = nn.BatchNorm2d(16)\n",
    "        self.trans_conv4 = nn.ConvTranspose2d(16, 1, kernel_size = 3, stride = 2, padding = 1, output_padding = 1)\n",
    "        \n",
    "    def forward(self, x):                   # Input = batch_size*dim_latent_space\n",
    "        x = self.fc(x)                      # Output = batch_size*(64*7*7)\n",
    "        x = x.view(-1, 64, 7, 7)            # Output = batch_size*64*7*7\n",
    "        x = self.trans_conv1(x)             # Output = batch_size*64*14*14\n",
    "        x = F.relu(self.batch_norm1(x))\n",
    "        x = self.trans_conv2(x)             # Output = batch_size*32*14*14\n",
    "        x = F.relu(self.batch_norm2(x))\n",
    "        x = self.trans_conv3(x)             # Output = batch_size*16*14*14\n",
    "        x = F.relu(self.batch_norm3(x))     \n",
    "        x = self.trans_conv4(x)             # Output = batch_size*1*28*28\n",
    "        x = torch.tanh(x)\n",
    "        return x"
   ]
  },
  {
   "cell_type": "code",
   "execution_count": 14,
   "id": "7a9fbfb6-ea0a-4fc6-b390-eef5da7f06cf",
   "metadata": {},
   "outputs": [],
   "source": [
    "generators = {}\n",
    "for (i, key) in labels_name.items():\n",
    "    generator = Generator(dim_latent_space)\n",
    "    generators[i] = generator\n",
    "    generators[key] = generator\n",
    "    del generator"
   ]
  },
  {
   "cell_type": "markdown",
   "id": "366a486b-762c-4dc8-95d1-d1c2d198cd9d",
   "metadata": {
    "tags": []
   },
   "source": [
    "## Discriminator model"
   ]
  },
  {
   "cell_type": "code",
   "execution_count": 15,
   "id": "c14fdc48-f13f-4cb2-ab4b-5c8ff6287c64",
   "metadata": {},
   "outputs": [],
   "source": [
    "class Discriminator(nn.Module):\n",
    "    \n",
    "    def __init__(self):\n",
    "        super().__init__()\n",
    "        self.conv0 = nn.Conv2d(1, 32, kernel_size = 3, stride = 2, padding = 1)     \n",
    "        self.conv0_drop = nn.Dropout2d(0.25)\n",
    "        self.conv1 = nn.Conv2d(32, 64, kernel_size = 3, stride = 1, padding = 1)\n",
    "        self.conv1_drop = nn.Dropout2d(0.25)\n",
    "        self.conv2 = nn.Conv2d(64, 128, kernel_size = 3, stride = 1, padding = 1)\n",
    "        self.conv2_drop = nn.Dropout2d(0.25)\n",
    "        self.conv3 = nn.Conv2d(128, 128, kernel_size = 3, stride = 2, padding = 1)\n",
    "        self.conv3_drop = nn.Dropout2d(0.25)\n",
    "        self.fc = nn.Linear(128*7*7, 1)\n",
    "    \n",
    "    def forward(self, x):                               # Input = batch_size*1*28*28\n",
    "        x = x.view(-1, 1, 28, 28)                       # Output = batch_size*1*28*28\n",
    "        x = F.leaky_relu(self.conv0(x), 0.2)            # Output = batch_size*32*14*14\n",
    "        x = self.conv0_drop(x)\n",
    "        x = F.leaky_relu(self.conv1(x), 0.2)            # Output = batch_size*64*14*14\n",
    "        x = self.conv1_drop(x)\n",
    "        x = F.leaky_relu(self.conv2(x), 0.2)            # Output = batch_size*128*14*14\n",
    "        x = self.conv2_drop(x)\n",
    "        x = F.leaky_relu(self.conv3(x), 0.2)            # Output = batch_size*128*7*7\n",
    "        x = self.conv3_drop(x)\n",
    "        x = x.view(-1, 128*7*7)                         # Output = batch_size*(128*7*7)\n",
    "        x = self.fc(x)                                  # Output = batch_size*1\n",
    "        return x"
   ]
  },
  {
   "cell_type": "code",
   "execution_count": 16,
   "id": "ab243af9-edec-4d81-ac0c-18d06c0aa617",
   "metadata": {},
   "outputs": [],
   "source": [
    "discriminators = {}\n",
    "for (i, key) in labels_name.items():\n",
    "    discriminator = Discriminator()\n",
    "    generators[i] = discriminator\n",
    "    generators[key] = discriminator\n",
    "    del discriminator"
   ]
  },
  {
   "cell_type": "markdown",
   "id": "0e82e482-27ac-48bc-8c09-c969f9b9e262",
   "metadata": {},
   "source": [
    "## CNN model"
   ]
  },
  {
   "cell_type": "code",
   "execution_count": 17,
   "id": "83264978-bb47-4d01-951b-89454ed7b9d5",
   "metadata": {},
   "outputs": [],
   "source": [
    "class CNN(nn.Module):\n",
    "    def __init__(self, n_classes):\n",
    "        super(CNN, self).__init__()\n",
    "        self.n_classes = n_classes\n",
    "        self.conv1 = nn.Sequential(             # Images input is batch_size*1*28*28\n",
    "            nn.Conv2d(1, 16, 5, 1, 2),          # Output is batch_size*16*28*28\n",
    "            nn.ReLU(),                      \n",
    "            nn.MaxPool2d(kernel_size=2),        # Output is batch_size*16*14*14\n",
    "        )\n",
    "        self.conv2 = nn.Sequential(         \n",
    "            nn.Conv2d(16, 32, 5, 1, 2),         # Output is batch_size*32*14*14\n",
    "            nn.ReLU(),                      \n",
    "            nn.MaxPool2d(2),                    # Output is batch_size*32*7*7\n",
    "        )\n",
    "        # fully connected layer, output one number for each class\n",
    "        self.out = nn.Sequential(         \n",
    "            nn.Linear(32 * 7 * 7, self.n_classes),          # Output is batch_size*n_classes\n",
    "        )\n",
    "    \n",
    "    def scaleToProbabilities(self, outmap, scale_factor = 3): \n",
    "        # scale_factor allows to scale your output before passing it into the softmax function \n",
    "        # in order to get numbers interpratble as probabilities\n",
    "        \n",
    "        flattened_outmap = outmap.view(outmap.shape[0], -1)\n",
    "        outmap_std = torch.std(flattened_outmap, dim = 1).view(-1, 1)\n",
    "        outmap_scaled_std = torch.div(outmap, outmap_std)\n",
    "        probabilities = nn.functional.softmax(outmap_scaled_std*scale_factor, dim=1)\n",
    "        return probabilities\n",
    "    \n",
    "    def predictLabels(self, outmap, scale_factor = 3):\n",
    "        probabilities = self.scaleToProbabilities(outmap, scale_factor = 3)\n",
    "        certainty, predicted_labels = torch.max(probabilities, 1)\n",
    "        predicted_labels = predicted_labels.data.squeeze()\n",
    "        certainty = certainty.data.squeeze()\n",
    "        return predicted_labels, probabilities, certainty\n",
    "        \n",
    "    def forward(self, x):\n",
    "        x = self.conv1(x)\n",
    "        x = self.conv2(x)\n",
    "        x = x.view(x.size(0), 32 * 7 * 7)\n",
    "        output = self.out(x)\n",
    "        return output"
   ]
  },
  {
   "cell_type": "markdown",
   "id": "6b19036c-4700-4f13-9d5f-6d4e117dde6f",
   "metadata": {},
   "source": [
    "# Training"
   ]
  },
  {
   "cell_type": "markdown",
   "id": "6f8379ea-1a34-4207-aff9-cf60798f1b6a",
   "metadata": {
    "jp-MarkdownHeadingCollapsed": true,
    "tags": []
   },
   "source": [
    "## Train CNN on full data set"
   ]
  },
  {
   "cell_type": "code",
   "execution_count": 18,
   "id": "06d697d6-689d-41aa-8b95-aa4d8b691e74",
   "metadata": {},
   "outputs": [],
   "source": [
    "cnn_full = CNN(n_classes).to(device=device)"
   ]
  },
  {
   "cell_type": "code",
   "execution_count": 19,
   "id": "266f5b45-0be0-4888-853c-65c72127b461",
   "metadata": {},
   "outputs": [],
   "source": [
    "# Loss function for the CNN\n",
    "loss_function_cnn = nn.CrossEntropyLoss()"
   ]
  },
  {
   "cell_type": "code",
   "execution_count": 20,
   "id": "6b0d2bbc-3a38-4ea9-aa22-ffa547c4d584",
   "metadata": {},
   "outputs": [],
   "source": [
    "# Adam optimization parameters\n",
    "lr_cnn = 0.001\n",
    "betas_cnn = (0.9, 0.999)\n",
    "\n",
    "optimizer_cnn = torch.optim.Adam(cnn_full.parameters(), lr=lr_cnn, betas = betas_cnn)"
   ]
  },
  {
   "cell_type": "code",
   "execution_count": 21,
   "id": "53cba000-a858-40f0-a16e-0450832560ce",
   "metadata": {},
   "outputs": [],
   "source": [
    "def computeCNNAccuracy(y_predicted,y_true):\n",
    "    accuracy = 0.0\n",
    "    accuracy = torch.sum(y_predicted == y_true).item()/y_true.shape[0]\n",
    "    return accuracy"
   ]
  },
  {
   "cell_type": "code",
   "execution_count": 22,
   "id": "966f4ea3-67a6-4df0-aa92-86724e722d3f",
   "metadata": {},
   "outputs": [],
   "source": [
    "n_epoch_cnn = 20 \n",
    "n_classes = 10"
   ]
  },
  {
   "cell_type": "code",
   "execution_count": 23,
   "id": "26a8149f-20e6-4e7a-856e-f9940125eed2",
   "metadata": {},
   "outputs": [
    {
     "name": "stdout",
     "output_type": "stream",
     "text": [
      "Accuracy during training: 10.20%\n",
      "Accuracy during test:     10.23%\n",
      "Loss during training:     2.34\n",
      "CPU times: user 12.5 s, sys: 318 ms, total: 12.8 s\n",
      "Wall time: 12.7 s\n"
     ]
    }
   ],
   "source": [
    "%%time\n",
    "\n",
    "# Error metrics at initialisation\n",
    "\n",
    "losses_train_cnn     = np.zeros(n_epoch_cnn+1)\n",
    "accuracies_train_cnn = np.zeros(n_epoch_cnn+1)\n",
    "accuracies_test_cnn  = np.zeros(n_epoch_cnn+1)\n",
    "\n",
    "cnn_full.eval()\n",
    "for batch_id, (real, labels) in enumerate(train_loader):\n",
    "    real = real.to(device)\n",
    "    labels = labels.to(device)\n",
    "\n",
    "    pred = cnn_full(real)\n",
    "\n",
    "    labels_pred, labels_prob, _ = cnn_full.predictLabels(pred)\n",
    "\n",
    "    target_prob = torch.zeros_like(labels_prob)\n",
    "    for i,j in enumerate(labels):\n",
    "        target_prob[i][j] = 1\n",
    "    target_prob = target_prob.to(device)\n",
    "\n",
    "    loss_cnn = loss_function_cnn(labels_prob, target_prob)\n",
    "\n",
    "    losses_train_cnn[0] += loss_cnn.item()\n",
    "    accuracies_train_cnn[0] += computeCNNAccuracy(labels_pred, labels)\n",
    "\n",
    "accuracies_train_cnn[0] /= n_batches_train\n",
    "losses_train_cnn[0] /= n_batches_train\n",
    "\n",
    "cnn_full.eval()\n",
    "for batch_id, (real, labels) in enumerate(test_loader):\n",
    "    real = real.to(device)\n",
    "    labels = labels.to(device)\n",
    "    pred = cnn_full(real)\n",
    "\n",
    "    labels_pred, _, _ = cnn_full.predictLabels(pred)\n",
    "\n",
    "    accuracies_test_cnn[0] += computeCNNAccuracy(labels_pred, labels)\n",
    "\n",
    "accuracies_test_cnn[0] /= n_batches_test\n",
    "\n",
    "print(f\"Accuracy during training: {accuracies_train_cnn[0]*100:.2f}%\")\n",
    "print(f\"Accuracy during test:     {accuracies_test_cnn[0]*100:.2f}%\")\n",
    "print(f\"Loss during training:     {losses_train_cnn[0]:.2f}\")"
   ]
  },
  {
   "cell_type": "code",
   "execution_count": 34,
   "id": "02b02aad-02c7-488a-93b2-128e1135c156",
   "metadata": {},
   "outputs": [
    {
     "name": "stdout",
     "output_type": "stream",
     "text": [
      "Epoch [ 1/20]             Accuracy: 0.1140\n"
     ]
    },
    {
     "ename": "KeyboardInterrupt",
     "evalue": "",
     "output_type": "error",
     "traceback": [
      "\u001b[0;31m---------------------------------------------------------------------------\u001b[0m",
      "\u001b[0;31mKeyboardInterrupt\u001b[0m                         Traceback (most recent call last)",
      "\u001b[0;32m<timed exec>\u001b[0m in \u001b[0;36m<module>\u001b[0;34m\u001b[0m\n",
      "\u001b[0;31mKeyboardInterrupt\u001b[0m: "
     ]
    }
   ],
   "source": [
    "%%time\n",
    "# Training of the CNN\n",
    "for epoch in range(n_epoch_cnn):\n",
    "    cnn_full.train()\n",
    "    for batch_id, (real, labels) in enumerate(train_loader):\n",
    "        real = real.to(device)\n",
    "        labels = labels.to(device)\n",
    "\n",
    "        pred = cnn_full(real)\n",
    "\n",
    "        labels_pred, labels_prob, _ = cnn_full.predictLabels(pred)\n",
    "\n",
    "        target_prob = torch.zeros_like(labels_prob)\n",
    "        for i,j in enumerate(labels):\n",
    "            target_prob[i][j] = 1\n",
    "        target_prob = target_prob.to(device)\n",
    "        \n",
    "        loss_cnn = loss_function_cnn(labels_prob, target_prob)\n",
    "\n",
    "        optimizer_cnn.zero_grad()\n",
    "        loss_cnn.backward()\n",
    "        optimizer_cnn.step()\n",
    "\n",
    "        losses_train_cnn[epoch + 1] += loss_cnn.item()\n",
    "        accuracies_train_cnn[epoch + 1] += computeCNNAccuracy(labels_pred, labels)\n",
    "\n",
    "    accuracies_train_cnn[epoch + 1] /= n_batches_train\n",
    "    losses_train_cnn[epoch + 1] /= n_batches_train\n",
    "\n",
    "    cnn_full.eval()\n",
    "    for batch_id, (real, labels) in enumerate(test_loader):\n",
    "        real = real.to(device)\n",
    "        labels = labels.to(device)\n",
    "        pred = cnn_full(real)\n",
    "\n",
    "        labels_pred, _, _ = cnn_full.predictLabels(pred)\n",
    "\n",
    "        accuracies_test_cnn[epoch + 1] += computeCNNAccuracy(labels_pred, labels)\n",
    "\n",
    "    accuracies_test_cnn[epoch + 1] /= n_batches_test\n",
    "\n",
    "    print(f\"Epoch [{epoch + 1:2d}/{n_epoch_cnn:2d}] \\\n",
    "            Accuracy: {accuracies_test_cnn[epoch + 1]:.4f}\")"
   ]
  },
  {
   "cell_type": "code",
   "execution_count": 25,
   "id": "ea0f7be3-606b-4d39-a372-ba79baf53b94",
   "metadata": {},
   "outputs": [
    {
     "data": {
      "image/png": "[encoded data removed]",
      "text/plain": [
       "<Figure size 1200x1200 with 2 Axes>"
      ]
     },
     "metadata": {},
     "output_type": "display_data"
    }
   ],
   "source": [
    "# Plots of accuracy and of loss function, images generated from your reference sample.\n",
    "epochs = np.arange(n_epoch_cnn+1)\n",
    "fig, (ax1, ax2) = plt.subplots(2, 1, figsize=(12,12))\n",
    "\n",
    "ax1.plot(epochs, accuracies_train_cnn, label = \"Error during training\")\n",
    "ax1.plot(epochs, accuracies_test_cnn, label = \"Error during test\")\n",
    "ax1.set_title('Accuracies')\n",
    "ax1.set_xlabel('Epoch')\n",
    "ax1.legend()\n",
    "\n",
    "ax2.plot(epochs, losses_train_cnn)\n",
    "ax2.set_title('CNN loss')\n",
    "ax2.set_xlabel('Epoch')\n",
    "\n",
    "\n",
    "for ax in (ax1, ax2):\n",
    "    ax.xaxis.set_major_locator(MaxNLocator(integer=True))\n",
    "    ax.xaxis.set_major_formatter(FormatStrFormatter('%.0f'))\n",
    "\n",
    "#plt.savefig(\"../figures/CNN_Metrics.png\")\n"
   ]
  },
  {
   "cell_type": "markdown",
   "id": "3821fb77-395e-42ee-8036-dfcc76272a75",
   "metadata": {},
   "source": [
    "## Train CNN on reduced data set"
   ]
  },
  {
   "cell_type": "code",
   "execution_count": 26,
   "id": "695b93f9-34a9-43c1-950a-2d89c881aee7",
   "metadata": {},
   "outputs": [],
   "source": [
    "cnn_red = CNN(n_classes).to(device=device)"
   ]
  },
  {
   "cell_type": "code",
   "execution_count": 27,
   "id": "d1d27df1-3a97-4db0-b396-1f477ad80bf8",
   "metadata": {},
   "outputs": [],
   "source": [
    "# Loss function for the CNN\n",
    "loss_function_cnn = nn.CrossEntropyLoss()"
   ]
  },
  {
   "cell_type": "code",
   "execution_count": 28,
   "id": "40f36078-1bc2-480e-bb34-cca9cd409653",
   "metadata": {},
   "outputs": [],
   "source": [
    "# Adam optimization parameters\n",
    "lr_cnn = 0.001\n",
    "betas_cnn = (0.9, 0.999)\n",
    "\n",
    "optimizer_cnn = torch.optim.Adam(cnn_red.parameters(), lr=lr_cnn, betas = betas_cnn)"
   ]
  },
  {
   "cell_type": "code",
   "execution_count": 29,
   "id": "1309a452-5846-4d26-9a22-b9f40c46b4f6",
   "metadata": {},
   "outputs": [
    {
     "name": "stdout",
     "output_type": "stream",
     "text": [
      "Accuracy during training: 11.34%\n",
      "Accuracy during test:     10.29%\n",
      "Loss during training:     2.31\n",
      "CPU times: user 11.5 s, sys: 5.56 ms, total: 11.5 s\n",
      "Wall time: 11.4 s\n"
     ]
    }
   ],
   "source": [
    "%%time\n",
    "\n",
    "# Error metrics at initialisation\n",
    "\n",
    "losses_train_cnn     = np.zeros(n_epoch_cnn+1)\n",
    "accuracies_train_cnn = np.zeros(n_epoch_cnn+1)\n",
    "accuracies_test_cnn  = np.zeros(n_epoch_cnn+1)\n",
    "\n",
    "cnn_red.eval()\n",
    "for batch_id, (real, labels) in enumerate(train_loader):\n",
    "    real = real.to(device)\n",
    "    labels = labels.to(device)\n",
    "\n",
    "    pred = cnn_red(real)\n",
    "\n",
    "    labels_pred, labels_prob, _ = cnn_red.predictLabels(pred)\n",
    "\n",
    "    target_prob = torch.zeros_like(labels_prob)\n",
    "    for i,j in enumerate(labels):\n",
    "        target_prob[i][j] = 1\n",
    "    target_prob = target_prob.to(device)\n",
    "\n",
    "    loss_cnn = loss_function_cnn(labels_prob, target_prob)\n",
    "\n",
    "    losses_train_cnn[0] += loss_cnn.item()\n",
    "    accuracies_train_cnn[0] += computeCNNAccuracy(labels_pred, labels)\n",
    "\n",
    "accuracies_train_cnn[0] /= n_batches_train\n",
    "losses_train_cnn[0] /= n_batches_train\n",
    "\n",
    "cnn_red.eval()\n",
    "for batch_id, (real, labels) in enumerate(test_loader):\n",
    "    real = real.to(device)\n",
    "    labels = labels.to(device)\n",
    "    pred = cnn_red(real)\n",
    "\n",
    "    labels_pred, _, _ = cnn_red.predictLabels(pred)\n",
    "\n",
    "    accuracies_test_cnn[0] += computeCNNAccuracy(labels_pred, labels)\n",
    "\n",
    "accuracies_test_cnn[0] /= n_batches_test\n",
    "\n",
    "print(f\"Accuracy during training: {accuracies_train_cnn[0]*100:.2f}%\")\n",
    "print(f\"Accuracy during test:     {accuracies_test_cnn[0]*100:.2f}%\")\n",
    "print(f\"Loss during training:     {losses_train_cnn[0]:.2f}\")"
   ]
  },
  {
   "cell_type": "code",
   "execution_count": 30,
   "id": "4a9ee9ac-af2b-4b3b-b734-ef7ad54bbb37",
   "metadata": {},
   "outputs": [
    {
     "name": "stdout",
     "output_type": "stream",
     "text": [
      "Epoch [ 1/20]             Accuracy: 0.8757\n",
      "Epoch [ 2/20]             Accuracy: 0.8843\n",
      "Epoch [ 3/20]             Accuracy: 0.8914\n"
     ]
    },
    {
     "ename": "KeyboardInterrupt",
     "evalue": "",
     "output_type": "error",
     "traceback": [
      "\u001b[0;31m---------------------------------------------------------------------------\u001b[0m",
      "\u001b[0;31mKeyboardInterrupt\u001b[0m                         Traceback (most recent call last)",
      "\u001b[0;32m<timed exec>\u001b[0m in \u001b[0;36m<module>\u001b[0;34m\u001b[0m\n",
      "\u001b[0;32m~/anaconda3/envs/linma/lib/python3.9/site-packages/torch/utils/data/dataloader.py\u001b[0m in \u001b[0;36m__next__\u001b[0;34m(self)\u001b[0m\n\u001b[1;32m    626\u001b[0m                 \u001b[0;31m# TODO(https://github.com/pytorch/pytorch/issues/76750)\u001b[0m\u001b[0;34m\u001b[0m\u001b[0;34m\u001b[0m\u001b[0m\n\u001b[1;32m    627\u001b[0m                 \u001b[0mself\u001b[0m\u001b[0;34m.\u001b[0m\u001b[0m_reset\u001b[0m\u001b[0;34m(\u001b[0m\u001b[0;34m)\u001b[0m  \u001b[0;31m# type: ignore[call-arg]\u001b[0m\u001b[0;34m\u001b[0m\u001b[0;34m\u001b[0m\u001b[0m\n\u001b[0;32m--> 628\u001b[0;31m             \u001b[0mdata\u001b[0m \u001b[0;34m=\u001b[0m \u001b[0mself\u001b[0m\u001b[0;34m.\u001b[0m\u001b[0m_next_data\u001b[0m\u001b[0;34m(\u001b[0m\u001b[0;34m)\u001b[0m\u001b[0;34m\u001b[0m\u001b[0;34m\u001b[0m\u001b[0m\n\u001b[0m\u001b[1;32m    629\u001b[0m             \u001b[0mself\u001b[0m\u001b[0;34m.\u001b[0m\u001b[0m_num_yielded\u001b[0m \u001b[0;34m+=\u001b[0m \u001b[0;36m1\u001b[0m\u001b[0;34m\u001b[0m\u001b[0;34m\u001b[0m\u001b[0m\n\u001b[1;32m    630\u001b[0m             \u001b[0;32mif\u001b[0m \u001b[0mself\u001b[0m\u001b[0;34m.\u001b[0m\u001b[0m_dataset_kind\u001b[0m \u001b[0;34m==\u001b[0m \u001b[0m_DatasetKind\u001b[0m\u001b[0;34m.\u001b[0m\u001b[0mIterable\u001b[0m \u001b[0;32mand\u001b[0m\u001b[0;31m \u001b[0m\u001b[0;31m\\\u001b[0m\u001b[0;34m\u001b[0m\u001b[0;34m\u001b[0m\u001b[0m\n",
      "\u001b[0;32m~/anaconda3/envs/linma/lib/python3.9/site-packages/torch/utils/data/dataloader.py\u001b[0m in \u001b[0;36m_next_data\u001b[0;34m(self)\u001b[0m\n\u001b[1;32m    669\u001b[0m     \u001b[0;32mdef\u001b[0m \u001b[0m_next_data\u001b[0m\u001b[0;34m(\u001b[0m\u001b[0mself\u001b[0m\u001b[0;34m)\u001b[0m\u001b[0;34m:\u001b[0m\u001b[0;34m\u001b[0m\u001b[0;34m\u001b[0m\u001b[0m\n\u001b[1;32m    670\u001b[0m         \u001b[0mindex\u001b[0m \u001b[0;34m=\u001b[0m \u001b[0mself\u001b[0m\u001b[0;34m.\u001b[0m\u001b[0m_next_index\u001b[0m\u001b[0;34m(\u001b[0m\u001b[0;34m)\u001b[0m  \u001b[0;31m# may raise StopIteration\u001b[0m\u001b[0;34m\u001b[0m\u001b[0;34m\u001b[0m\u001b[0m\n\u001b[0;32m--> 671\u001b[0;31m         \u001b[0mdata\u001b[0m \u001b[0;34m=\u001b[0m \u001b[0mself\u001b[0m\u001b[0;34m.\u001b[0m\u001b[0m_dataset_fetcher\u001b[0m\u001b[0;34m.\u001b[0m\u001b[0mfetch\u001b[0m\u001b[0;34m(\u001b[0m\u001b[0mindex\u001b[0m\u001b[0;34m)\u001b[0m  \u001b[0;31m# may raise StopIteration\u001b[0m\u001b[0;34m\u001b[0m\u001b[0;34m\u001b[0m\u001b[0m\n\u001b[0m\u001b[1;32m    672\u001b[0m         \u001b[0;32mif\u001b[0m \u001b[0mself\u001b[0m\u001b[0;34m.\u001b[0m\u001b[0m_pin_memory\u001b[0m\u001b[0;34m:\u001b[0m\u001b[0;34m\u001b[0m\u001b[0;34m\u001b[0m\u001b[0m\n\u001b[1;32m    673\u001b[0m             \u001b[0mdata\u001b[0m \u001b[0;34m=\u001b[0m \u001b[0m_utils\u001b[0m\u001b[0;34m.\u001b[0m\u001b[0mpin_memory\u001b[0m\u001b[0;34m.\u001b[0m\u001b[0mpin_memory\u001b[0m\u001b[0;34m(\u001b[0m\u001b[0mdata\u001b[0m\u001b[0;34m,\u001b[0m \u001b[0mself\u001b[0m\u001b[0;34m.\u001b[0m\u001b[0m_pin_memory_device\u001b[0m\u001b[0;34m)\u001b[0m\u001b[0;34m\u001b[0m\u001b[0;34m\u001b[0m\u001b[0m\n",
      "\u001b[0;32m~/anaconda3/envs/linma/lib/python3.9/site-packages/torch/utils/data/_utils/fetch.py\u001b[0m in \u001b[0;36mfetch\u001b[0;34m(self, possibly_batched_index)\u001b[0m\n\u001b[1;32m     56\u001b[0m                 \u001b[0mdata\u001b[0m \u001b[0;34m=\u001b[0m \u001b[0mself\u001b[0m\u001b[0;34m.\u001b[0m\u001b[0mdataset\u001b[0m\u001b[0;34m.\u001b[0m\u001b[0m__getitems__\u001b[0m\u001b[0;34m(\u001b[0m\u001b[0mpossibly_batched_index\u001b[0m\u001b[0;34m)\u001b[0m\u001b[0;34m\u001b[0m\u001b[0;34m\u001b[0m\u001b[0m\n\u001b[1;32m     57\u001b[0m             \u001b[0;32melse\u001b[0m\u001b[0;34m:\u001b[0m\u001b[0;34m\u001b[0m\u001b[0;34m\u001b[0m\u001b[0m\n\u001b[0;32m---> 58\u001b[0;31m                 \u001b[0mdata\u001b[0m \u001b[0;34m=\u001b[0m \u001b[0;34m[\u001b[0m\u001b[0mself\u001b[0m\u001b[0;34m.\u001b[0m\u001b[0mdataset\u001b[0m\u001b[0;34m[\u001b[0m\u001b[0midx\u001b[0m\u001b[0;34m]\u001b[0m \u001b[0;32mfor\u001b[0m \u001b[0midx\u001b[0m \u001b[0;32min\u001b[0m \u001b[0mpossibly_batched_index\u001b[0m\u001b[0;34m]\u001b[0m\u001b[0;34m\u001b[0m\u001b[0;34m\u001b[0m\u001b[0m\n\u001b[0m\u001b[1;32m     59\u001b[0m         \u001b[0;32melse\u001b[0m\u001b[0;34m:\u001b[0m\u001b[0;34m\u001b[0m\u001b[0;34m\u001b[0m\u001b[0m\n\u001b[1;32m     60\u001b[0m             \u001b[0mdata\u001b[0m \u001b[0;34m=\u001b[0m \u001b[0mself\u001b[0m\u001b[0;34m.\u001b[0m\u001b[0mdataset\u001b[0m\u001b[0;34m[\u001b[0m\u001b[0mpossibly_batched_index\u001b[0m\u001b[0;34m]\u001b[0m\u001b[0;34m\u001b[0m\u001b[0;34m\u001b[0m\u001b[0m\n",
      "\u001b[0;32m~/anaconda3/envs/linma/lib/python3.9/site-packages/torch/utils/data/_utils/fetch.py\u001b[0m in \u001b[0;36m<listcomp>\u001b[0;34m(.0)\u001b[0m\n\u001b[1;32m     56\u001b[0m                 \u001b[0mdata\u001b[0m \u001b[0;34m=\u001b[0m \u001b[0mself\u001b[0m\u001b[0;34m.\u001b[0m\u001b[0mdataset\u001b[0m\u001b[0;34m.\u001b[0m\u001b[0m__getitems__\u001b[0m\u001b[0;34m(\u001b[0m\u001b[0mpossibly_batched_index\u001b[0m\u001b[0;34m)\u001b[0m\u001b[0;34m\u001b[0m\u001b[0;34m\u001b[0m\u001b[0m\n\u001b[1;32m     57\u001b[0m             \u001b[0;32melse\u001b[0m\u001b[0;34m:\u001b[0m\u001b[0;34m\u001b[0m\u001b[0;34m\u001b[0m\u001b[0m\n\u001b[0;32m---> 58\u001b[0;31m                 \u001b[0mdata\u001b[0m \u001b[0;34m=\u001b[0m \u001b[0;34m[\u001b[0m\u001b[0mself\u001b[0m\u001b[0;34m.\u001b[0m\u001b[0mdataset\u001b[0m\u001b[0;34m[\u001b[0m\u001b[0midx\u001b[0m\u001b[0;34m]\u001b[0m \u001b[0;32mfor\u001b[0m \u001b[0midx\u001b[0m \u001b[0;32min\u001b[0m \u001b[0mpossibly_batched_index\u001b[0m\u001b[0;34m]\u001b[0m\u001b[0;34m\u001b[0m\u001b[0;34m\u001b[0m\u001b[0m\n\u001b[0m\u001b[1;32m     59\u001b[0m         \u001b[0;32melse\u001b[0m\u001b[0;34m:\u001b[0m\u001b[0;34m\u001b[0m\u001b[0;34m\u001b[0m\u001b[0m\n\u001b[1;32m     60\u001b[0m             \u001b[0mdata\u001b[0m \u001b[0;34m=\u001b[0m \u001b[0mself\u001b[0m\u001b[0;34m.\u001b[0m\u001b[0mdataset\u001b[0m\u001b[0;34m[\u001b[0m\u001b[0mpossibly_batched_index\u001b[0m\u001b[0;34m]\u001b[0m\u001b[0;34m\u001b[0m\u001b[0;34m\u001b[0m\u001b[0m\n",
      "\u001b[0;32m~/anaconda3/envs/linma/lib/python3.9/site-packages/torchvision/datasets/mnist.py\u001b[0m in \u001b[0;36m__getitem__\u001b[0;34m(self, index)\u001b[0m\n\u001b[1;32m    143\u001b[0m \u001b[0;34m\u001b[0m\u001b[0m\n\u001b[1;32m    144\u001b[0m         \u001b[0;32mif\u001b[0m \u001b[0mself\u001b[0m\u001b[0;34m.\u001b[0m\u001b[0mtransform\u001b[0m \u001b[0;32mis\u001b[0m \u001b[0;32mnot\u001b[0m \u001b[0;32mNone\u001b[0m\u001b[0;34m:\u001b[0m\u001b[0;34m\u001b[0m\u001b[0;34m\u001b[0m\u001b[0m\n\u001b[0;32m--> 145\u001b[0;31m             \u001b[0mimg\u001b[0m \u001b[0;34m=\u001b[0m \u001b[0mself\u001b[0m\u001b[0;34m.\u001b[0m\u001b[0mtransform\u001b[0m\u001b[0;34m(\u001b[0m\u001b[0mimg\u001b[0m\u001b[0;34m)\u001b[0m\u001b[0;34m\u001b[0m\u001b[0;34m\u001b[0m\u001b[0m\n\u001b[0m\u001b[1;32m    146\u001b[0m \u001b[0;34m\u001b[0m\u001b[0m\n\u001b[1;32m    147\u001b[0m         \u001b[0;32mif\u001b[0m \u001b[0mself\u001b[0m\u001b[0;34m.\u001b[0m\u001b[0mtarget_transform\u001b[0m \u001b[0;32mis\u001b[0m \u001b[0;32mnot\u001b[0m \u001b[0;32mNone\u001b[0m\u001b[0;34m:\u001b[0m\u001b[0;34m\u001b[0m\u001b[0;34m\u001b[0m\u001b[0m\n",
      "\u001b[0;32m~/anaconda3/envs/linma/lib/python3.9/site-packages/torchvision/transforms/transforms.py\u001b[0m in \u001b[0;36m__call__\u001b[0;34m(self, img)\u001b[0m\n\u001b[1;32m     93\u001b[0m     \u001b[0;32mdef\u001b[0m \u001b[0m__call__\u001b[0m\u001b[0;34m(\u001b[0m\u001b[0mself\u001b[0m\u001b[0;34m,\u001b[0m \u001b[0mimg\u001b[0m\u001b[0;34m)\u001b[0m\u001b[0;34m:\u001b[0m\u001b[0;34m\u001b[0m\u001b[0;34m\u001b[0m\u001b[0m\n\u001b[1;32m     94\u001b[0m         \u001b[0;32mfor\u001b[0m \u001b[0mt\u001b[0m \u001b[0;32min\u001b[0m \u001b[0mself\u001b[0m\u001b[0;34m.\u001b[0m\u001b[0mtransforms\u001b[0m\u001b[0;34m:\u001b[0m\u001b[0;34m\u001b[0m\u001b[0;34m\u001b[0m\u001b[0m\n\u001b[0;32m---> 95\u001b[0;31m             \u001b[0mimg\u001b[0m \u001b[0;34m=\u001b[0m \u001b[0mt\u001b[0m\u001b[0;34m(\u001b[0m\u001b[0mimg\u001b[0m\u001b[0;34m)\u001b[0m\u001b[0;34m\u001b[0m\u001b[0;34m\u001b[0m\u001b[0m\n\u001b[0m\u001b[1;32m     96\u001b[0m         \u001b[0;32mreturn\u001b[0m \u001b[0mimg\u001b[0m\u001b[0;34m\u001b[0m\u001b[0;34m\u001b[0m\u001b[0m\n\u001b[1;32m     97\u001b[0m \u001b[0;34m\u001b[0m\u001b[0m\n",
      "\u001b[0;31mKeyboardInterrupt\u001b[0m: "
     ]
    }
   ],
   "source": [
    "%%time\n",
    "# Training of the CNN\n",
    "for epoch in range(n_epoch_cnn):\n",
    "    cnn_red.train()\n",
    "    for batch_id, (real, labels) in enumerate(train_loader):\n",
    "        real = real.to(device)\n",
    "        labels = labels.to(device)\n",
    "\n",
    "        pred = cnn_red(real)\n",
    "\n",
    "        labels_pred, labels_prob, _ = cnn_red.predictLabels(pred)\n",
    "\n",
    "        target_prob = torch.zeros_like(labels_prob)\n",
    "        for i,j in enumerate(labels):\n",
    "            target_prob[i][j] = 1\n",
    "        target_prob = target_prob.to(device)\n",
    "        \n",
    "        loss_cnn = loss_function_cnn(labels_prob, target_prob)\n",
    "\n",
    "        optimizer_cnn.zero_grad()\n",
    "        loss_cnn.backward()\n",
    "        optimizer_cnn.step()\n",
    "\n",
    "        losses_train_cnn[epoch + 1] += loss_cnn.item()\n",
    "        accuracies_train_cnn[epoch + 1] += computeCNNAccuracy(labels_pred, labels)\n",
    "\n",
    "    accuracies_train_cnn[epoch + 1] /= n_batches_train\n",
    "    losses_train_cnn[epoch + 1] /= n_batches_train\n",
    "\n",
    "    cnn_red.eval()\n",
    "    for batch_id, (real, labels) in enumerate(test_loader):\n",
    "        real = real.to(device)\n",
    "        labels = labels.to(device)\n",
    "        pred = cnn_red(real)\n",
    "\n",
    "        labels_pred, _, _ = cnn_red.predictLabels(pred)\n",
    "\n",
    "        accuracies_test_cnn[epoch + 1] += computeCNNAccuracy(labels_pred, labels)\n",
    "\n",
    "    accuracies_test_cnn[epoch + 1] /= n_batches_test\n",
    "\n",
    "    print(f\"Epoch [{epoch + 1:2d}/{n_epoch_cnn:2d}] \\\n",
    "            Accuracy: {accuracies_test_cnn[epoch + 1]:.4f}\")"
   ]
  },
  {
   "cell_type": "code",
   "execution_count": 31,
   "id": "f5b97960-5ee4-4827-ae22-0915b1a587ee",
   "metadata": {},
   "outputs": [
    {
     "data": {
      "image/png": "[encoded data removed]",
      "text/plain": [
       "<Figure size 1200x1200 with 2 Axes>"
      ]
     },
     "metadata": {},
     "output_type": "display_data"
    }
   ],
   "source": [
    "# Plots of accuracy and of loss function, images generated from your reference sample.\n",
    "epochs = np.arange(n_epoch_cnn+1)\n",
    "fig, (ax1, ax2) = plt.subplots(2, 1, figsize=(12,12))\n",
    "\n",
    "ax1.plot(epochs, accuracies_train_cnn, label = \"Error during training\")\n",
    "ax1.plot(epochs, accuracies_test_cnn, label = \"Error during test\")\n",
    "ax1.set_title('Accuracies')\n",
    "ax1.set_xlabel('Epoch')\n",
    "ax1.legend()\n",
    "\n",
    "ax2.plot(epochs, losses_train_cnn)\n",
    "ax2.set_title('CNN loss')\n",
    "ax2.set_xlabel('Epoch')\n",
    "\n",
    "\n",
    "for ax in (ax1, ax2):\n",
    "    ax.xaxis.set_major_locator(MaxNLocator(integer=True))\n",
    "    ax.xaxis.set_major_formatter(FormatStrFormatter('%.0f'))\n",
    "\n",
    "#plt.savefig(\"../figures/CNN_Metrics.png\")\n"
   ]
  },
  {
   "cell_type": "code",
   "execution_count": null,
   "id": "8e034cc0-5847-4594-8715-7928e0c22efc",
   "metadata": {},
   "outputs": [],
   "source": []
  }
 ],
 "metadata": {
  "kernelspec": {
   "display_name": "Python 3 (ipykernel)",
   "language": "python",
   "name": "python3"
  },
  "language_info": {
   "codemirror_mode": {
    "name": "ipython",
    "version": 3
   },
   "file_extension": ".py",
   "mimetype": "text/x-python",
   "name": "python",
   "nbconvert_exporter": "python",
   "pygments_lexer": "ipython3",
   "version": "3.9.13"
  }
 },
 "nbformat": 4,
 "nbformat_minor": 5
}
