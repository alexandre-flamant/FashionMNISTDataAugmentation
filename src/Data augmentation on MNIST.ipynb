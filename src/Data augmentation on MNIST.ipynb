{
 "cells": [
  {
   "cell_type": "code",
   "execution_count": 1,
   "id": "8f96ce03",
   "metadata": {},
   "outputs": [],
   "source": [
    "import numpy as np\n",
    "\n",
    "import torch\n",
    "from torch import nn\n",
    "from torch.nn import functional as F\n",
    "from torch.utils.data import Dataset\n",
    "\n",
    "import torchvision\n",
    "import torchvision.transforms as transforms\n",
    "\n",
    "import matplotlib.pyplot as plt\n",
    "from matplotlib.ticker import FormatStrFormatter, MaxNLocator\n",
    "\n",
    "_ = torch.manual_seed(42)"
   ]
  },
  {
   "cell_type": "markdown",
   "id": "0573313e",
   "metadata": {
    "tags": []
   },
   "source": [
    "# Create useful directories\n",
    "We will first create all useful directories used to store figures, datas and models"
   ]
  },
  {
   "cell_type": "code",
   "execution_count": 2,
   "id": "0c9cbdf5",
   "metadata": {},
   "outputs": [],
   "source": [
    "!mkdir -p ../data\n",
    "!mkdir -p ../figures\n",
    "!mkdir -p ../models"
   ]
  },
  {
   "cell_type": "markdown",
   "id": "a632931a",
   "metadata": {
    "tags": []
   },
   "source": [
    "# Helper functions\n",
    "\n",
    "Here are the implementation of some usefull functions"
   ]
  },
  {
   "cell_type": "code",
   "execution_count": 3,
   "id": "a3b43ed4-62e7-47d5-9454-5f886fa4657c",
   "metadata": {},
   "outputs": [],
   "source": [
    "def saveModel(model, model_name, date=True):    \n",
    "    if date: filename = f'..Models/{model_name}_{datetime.now().strftime(\"%Y_%m_%d__%H_%M\")})'\n",
    "    else: filename = f'..Models/{model_name}'\n",
    "    \n",
    "    torch.save(model.state_dict(), filename)"
   ]
  },
  {
   "cell_type": "code",
   "execution_count": 4,
   "id": "5ccf8584-7939-4547-8aaf-a02588534dff",
   "metadata": {},
   "outputs": [],
   "source": [
    "def loadModel(model, model_name):\n",
    "    model.load_state_dict(torch.load(f'./Models/{model_name}'))\n",
    "    model.eval()\n",
    "    return model"
   ]
  },
  {
   "cell_type": "code",
   "execution_count": 1,
   "id": "0b12ab20",
   "metadata": {},
   "outputs": [],
   "source": [
    "def showimgpanel(imgs, n_imgs, panelshape, figsize=(15,15), \n",
    "                 labels=None, labels_prefix=\"Label : \",\n",
    "                 title=\"\", fontsize_title=30, fontsize_label=15, \n",
    "                 savefig=True, savedir=None):\n",
    "    x,y = panelshape\n",
    "    n_imgs = min(imgs.shape[0], n_imgs, x*y)\n",
    "    \n",
    "    fig = plt.figure(figsize = figsize)\n",
    "    fig.suptitle(title, fontsize = fontsize_title)\n",
    "    fig.subplots_adjust(wspace=0.1, hspace=0.2)\n",
    "    \n",
    "    for i in range(n_imgs):\n",
    "        ax = fig.add_subplot(x, y, i+1)\n",
    "        img = imgs[i]\n",
    "        \n",
    "        if labels is None: label = ''\n",
    "        else: label = labels_prefix + str(int(labels[i]))\n",
    "        \n",
    "        showimg(img, ax, title=label, fontsize=fontsize_label, savefig=False)            \n",
    "        \n",
    "    if savefig and savedir is not None: plt.savefig(f\"{savedir}{title}.png\")\n",
    "    "
   ]
  },
  {
   "cell_type": "code",
   "execution_count": 6,
   "id": "ce233ff8-78e2-44dd-8bf0-a9e4e18a5969",
   "metadata": {},
   "outputs": [],
   "source": [
    "# Divide dataset into batches\n",
    "\n",
    "def divideInBatches(dataset, batch_size):\n",
    "    # Train set\n",
    "    n_batches = np.ceil(len(dataset)/batch_size)\n",
    "    loader = torch.utils.data.DataLoader(dataset, batch_size=batch_size, shuffle=True)\n",
    "    \n",
    "    return loader, n_batches,"
   ]
  },
  {
   "cell_type": "code",
   "execution_count": 7,
   "id": "9c9b5361-a256-4320-876c-36657a06f2f7",
   "metadata": {},
   "outputs": [],
   "source": [
    "# Check if GPU is available\n",
    "\n",
    "def chooseDevice():\n",
    "    device = \"\"\n",
    "    if torch.cuda.is_available():\n",
    "        device = torch.device(\"cuda\")\n",
    "        print(\"GPU available via cuda\")\n",
    "    else:\n",
    "        device = torch.device(\"cpu\")\n",
    "        print(\"GPU not available, CPU available\")\n",
    "    return device"
   ]
  },
  {
   "cell_type": "code",
   "execution_count": 2,
   "id": "dd35859c",
   "metadata": {},
   "outputs": [],
   "source": [
    "def showimg(img, ax=None, shape=(28, 28), cmap='plasma', title=\"\", fontsize=15, axis=False, savefig=True, savedir=None):\n",
    "    if ax is None: _, ax = plt.subplots()\n",
    "    if not axis: ax.axis('off')\n",
    "        \n",
    "    img = img.reshape(shape)\n",
    "    ax.imshow(img, cmap=cmap)\n",
    "    ax.set_title(title, fontsize=fontsize)\n",
    "    \n",
    "    if savefig and savedir is not None: plt.savefig(f\"{filename}{savedir}.png\")"
   ]
  },
  {
   "cell_type": "code",
   "execution_count": 9,
   "id": "5aa31a65-9df3-4101-a0f7-c15051f6ceaa",
   "metadata": {},
   "outputs": [
    {
     "name": "stdout",
     "output_type": "stream",
     "text": [
      "GPU available via cuda\n"
     ]
    }
   ],
   "source": [
    "device = chooseDevice()"
   ]
  },
  {
   "cell_type": "markdown",
   "id": "f30240c5",
   "metadata": {
    "tags": []
   },
   "source": [
    "# Define datasets\n",
    "We first download the fashionMNIST dataset using the dataset module of the pytorch library.\n",
    "Then we reduce the model to 20% of its original size to have a lowerbound for our data augmentation performances."
   ]
  },
  {
   "cell_type": "code",
   "execution_count": 10,
   "id": "3549e1ab",
   "metadata": {},
   "outputs": [],
   "source": [
    "transform = transforms.Compose([transforms.ToTensor(), transforms.Normalize((0.5), (0.5))])\n",
    "\n",
    "test_set = torchvision.datasets.FashionMNIST(root=\"../data/\", train=False, download=True, transform=transform)\n",
    "test_set_size = len(test_set)\n",
    "\n",
    "full_train_set = torchvision.datasets.FashionMNIST(root=\"../data/\", train=True, download=True, transform=transform)\n",
    "full_train_set_size = len(full_train_set)"
   ]
  },
  {
   "cell_type": "code",
   "execution_count": 11,
   "id": "1dad8e54-1b13-4fc3-8b46-d4aebb1280bd",
   "metadata": {},
   "outputs": [],
   "source": [
    "reduction_factor = 0.05\n",
    "\n",
    "idxs = np.random.choice(np.arange(full_train_set_size), int(full_train_set_size*reduction_factor) ,replace=False)\n",
    "\n",
    "# Normalize the data from [-1. to 1.]\n",
    "reduced_data  = full_train_set.data[idxs].float()\n",
    "reduced_data /= reduced_data.max() - reduced_data.min()\n",
    "reduced_data  = 2. * reduced_data - 1.\n",
    "\n",
    "reduced_labels = full_train_set.targets[idxs]"
   ]
  },
  {
   "cell_type": "code",
   "execution_count": 12,
   "id": "d910b468-14d4-490b-b7f3-56cea23dbb73",
   "metadata": {},
   "outputs": [],
   "source": [
    "reduced_train_set = torch.utils.data.TensorDataset(reduced_data, reduced_labels)\n",
    "reduced_train_set_size = len(reduced_data)"
   ]
  },
  {
   "cell_type": "code",
   "execution_count": 13,
   "id": "46d66134-e398-44a4-aee6-88a045277eb9",
   "metadata": {},
   "outputs": [],
   "source": [
    "# Delete some, now, useless variables\n",
    "del reduction_factor, idxs"
   ]
  },
  {
   "cell_type": "code",
   "execution_count": 14,
   "id": "6a437a18-eeeb-4364-81e2-571c3e873050",
   "metadata": {},
   "outputs": [],
   "source": [
    "batch_size = 32"
   ]
  },
  {
   "cell_type": "code",
   "execution_count": 15,
   "id": "c9450622-1f3d-4ec2-92dc-bd309f54ee12",
   "metadata": {},
   "outputs": [],
   "source": [
    "# Create base loader\n",
    "full_train_loader,    full_train_n_batches    = divideInBatches(full_train_set, batch_size)\n",
    "reduced_train_loader, reduced_train_n_batches = divideInBatches(reduced_train_set, batch_size)\n",
    "test_loader,          test_n_batches          = divideInBatches(test_set, batch_size)"
   ]
  },
  {
   "cell_type": "markdown",
   "id": "30f7651e-8d1b-46c0-aa67-b09f99a4e372",
   "metadata": {
    "tags": []
   },
   "source": [
    "# Model definition\n",
    "Here we will define the architecture of our models"
   ]
  },
  {
   "cell_type": "markdown",
   "id": "0e82e482-27ac-48bc-8c09-c969f9b9e262",
   "metadata": {},
   "source": [
    "## CNN model"
   ]
  },
  {
   "cell_type": "code",
   "execution_count": 16,
   "id": "83264978-bb47-4d01-951b-89454ed7b9d5",
   "metadata": {},
   "outputs": [],
   "source": [
    "class CNN(nn.Module):\n",
    "    def __init__(self, n_classes):\n",
    "        super(CNN, self).__init__()\n",
    "        self.n_classes = n_classes\n",
    "        self.conv1 = nn.Sequential(             # Images input is batch_size*1*28*28\n",
    "            nn.Conv2d(1, 16, 5, 1, 2),          # Output is batch_size*16*28*28\n",
    "            nn.ReLU(),                      \n",
    "            nn.MaxPool2d(kernel_size=2),        # Output is batch_size*16*14*14\n",
    "        )\n",
    "        self.conv2 = nn.Sequential(         \n",
    "            nn.Conv2d(16, 32, 5, 1, 2),         # Output is batch_size*32*14*14\n",
    "            nn.ReLU(),                      \n",
    "            nn.MaxPool2d(2),                    # Output is batch_size*32*7*7\n",
    "        )\n",
    "        # fully connected layer, output one number for each class\n",
    "        self.out = nn.Sequential(         \n",
    "            nn.Linear(32 * 7 * 7, self.n_classes),          # Output is batch_size*n_classes\n",
    "        )\n",
    "    \n",
    "    def scaleToProbabilities(self, outmap, scale_factor = 3): \n",
    "        # scale_factor allows to scale your output before passing it into the softmax function \n",
    "        # in order to get numbers interpratble as probabilities\n",
    "        \n",
    "        flattened_outmap = outmap.view(outmap.shape[0], -1)\n",
    "        outmap_std = torch.std(flattened_outmap, dim = 1).view(-1, 1)\n",
    "        outmap_scaled_std = torch.div(outmap, outmap_std)\n",
    "        probabilities = nn.functional.softmax(outmap_scaled_std*scale_factor, dim=1)\n",
    "        return probabilities\n",
    "    \n",
    "    def predictLabels(self, outmap, scale_factor = 3):\n",
    "        probabilities = self.scaleToProbabilities(outmap, scale_factor = 3)\n",
    "        certainty, predicted_labels = torch.max(probabilities, 1)\n",
    "        predicted_labels = predicted_labels.data.squeeze()\n",
    "        certainty = certainty.data.squeeze()\n",
    "        return predicted_labels, probabilities, certainty\n",
    "        \n",
    "    def forward(self, x):\n",
    "        x = self.conv1(x)\n",
    "        x = self.conv2(x)\n",
    "        x = x.view(x.size(0), 32 * 7 * 7)\n",
    "        output = self.out(x)\n",
    "        return output"
   ]
  },
  {
   "cell_type": "markdown",
   "id": "6b19036c-4700-4f13-9d5f-6d4e117dde6f",
   "metadata": {
    "tags": []
   },
   "source": [
    "# Training of the CNN"
   ]
  },
  {
   "cell_type": "code",
   "execution_count": 17,
   "id": "966f4ea3-67a6-4df0-aa92-86724e722d3f",
   "metadata": {},
   "outputs": [],
   "source": [
    "n_epoch_cnn = 5\n",
    "n_classes = len(full_train_set.classes)"
   ]
  },
  {
   "cell_type": "code",
   "execution_count": 18,
   "id": "53cba000-a858-40f0-a16e-0450832560ce",
   "metadata": {},
   "outputs": [],
   "source": [
    "def computeCNNAccuracy(y_predicted,y_true):\n",
    "    accuracy = 0.0\n",
    "    accuracy = torch.sum(y_predicted == y_true).item()/y_true.shape[0]\n",
    "    return accuracy"
   ]
  },
  {
   "cell_type": "code",
   "execution_count": 19,
   "id": "c6dab106-5d69-489e-8dc9-7b55f6f51d11",
   "metadata": {},
   "outputs": [],
   "source": [
    "def evaluate_raw_performances(cnn, train_loader, test_loader, train_n_batches, test_n_batches,\n",
    "                              losses_train, accuracies_train, accuracies_test, \n",
    "                              loss_function, optimizer):\n",
    "    cnn.eval()\n",
    "    for batch_id, (data, labels) in enumerate(train_loader):\n",
    "        data = data.reshape((-1,1,28,28))\n",
    "        data = data.to(device)\n",
    "        labels = labels.to(device)\n",
    "\n",
    "        pred = cnn(data)\n",
    "\n",
    "        labels_pred, labels_prob, _ = cnn.predictLabels(pred)\n",
    "\n",
    "        target_prob = torch.zeros_like(labels_prob)\n",
    "        for i,j in enumerate(labels):\n",
    "            target_prob[i][j] = 1\n",
    "        target_prob = target_prob.to(device)\n",
    "\n",
    "        loss = loss_function(labels_prob, target_prob)\n",
    "        \n",
    "        optimizer.zero_grad()\n",
    "        \n",
    "        losses_train[0] += loss.item()\n",
    "        accuracies_train[0] += computeCNNAccuracy(labels_pred, labels)\n",
    "\n",
    "    accuracies_train[0] /= train_n_batches\n",
    "    losses_train[0] /= train_n_batches\n",
    "\n",
    "    cnn.eval()\n",
    "    for batch_id, (data, labels) in enumerate(test_loader):\n",
    "        data = data.to(device)\n",
    "        labels = labels.to(device)\n",
    "        pred = cnn(data)\n",
    "\n",
    "        labels_pred, _, _ = cnn.predictLabels(pred)\n",
    "\n",
    "        accuracies_test[0] += computeCNNAccuracy(labels_pred, labels)\n",
    "\n",
    "    accuracies_test[0] /= test_n_batches\n",
    "\n",
    "    print(f\"Accuracy during training: {accuracies_train[0]*100:.2f}%\")\n",
    "    print(f\"Accuracy during test:     {accuracies_test[0]*100:.2f}%\")\n",
    "    print(f\"Loss during training:     {losses_train[0]:.2f}\")"
   ]
  },
  {
   "cell_type": "code",
   "execution_count": 20,
   "id": "03d4a95a-85cf-45bc-a458-4652f286a80b",
   "metadata": {},
   "outputs": [],
   "source": [
    "def train_cnn(cnn, train_loader, test_loader, train_n_batches, test_n_batches,\n",
    "              losses_train, accuracies_train, accuracies_test, \n",
    "              loss_function, optimizer, n_epoch):\n",
    "    # Training of the CNN\n",
    "    for epoch in range(n_epoch):\n",
    "        cnn.train()\n",
    "        for batch_id, (data, labels) in enumerate(train_loader):\n",
    "            data = data.reshape((-1,1,28,28))\n",
    "            data = data.to(device)\n",
    "            labels = labels.to(device)\n",
    "\n",
    "            pred = cnn(data)\n",
    "\n",
    "            labels_pred, labels_prob, _ = cnn.predictLabels(pred)\n",
    "\n",
    "            target_prob = torch.zeros_like(labels_prob)\n",
    "            for i,j in enumerate(labels):\n",
    "                target_prob[i][j] = 1\n",
    "            target_prob = target_prob.to(device)\n",
    "\n",
    "            loss = loss_function(labels_prob, target_prob)\n",
    "\n",
    "            optimizer.zero_grad()\n",
    "            loss.backward()\n",
    "            optimizer.step()\n",
    "\n",
    "            losses_train[epoch + 1] += loss.item()\n",
    "            accuracies_train[epoch + 1] += computeCNNAccuracy(labels_pred, labels)\n",
    "\n",
    "        accuracies_train[epoch + 1] /= train_n_batches\n",
    "        losses_train[epoch + 1] /= train_n_batches\n",
    "\n",
    "        cnn.eval()\n",
    "        for batch_id, (real, labels) in enumerate(test_loader):\n",
    "            real = real.to(device)\n",
    "            labels = labels.to(device)\n",
    "            pred = cnn(real)\n",
    "\n",
    "            labels_pred, _, _ = cnn.predictLabels(pred)\n",
    "\n",
    "            accuracies_test[epoch + 1] += computeCNNAccuracy(labels_pred, labels)\n",
    "\n",
    "        accuracies_test[epoch + 1] /= test_n_batches\n",
    "\n",
    "        print(f\"Epoch [{epoch + 1:2d}/{n_epoch:2d}] \\\n",
    "                Accuracy: {accuracies_test[epoch + 1]:.4f} \\\n",
    "                Loss:     {losses_train[epoch + 1]:.4f}\")"
   ]
  },
  {
   "cell_type": "markdown",
   "id": "6f8379ea-1a34-4207-aff9-cf60798f1b6a",
   "metadata": {
    "tags": []
   },
   "source": [
    "## Train CNN on full data set"
   ]
  },
  {
   "cell_type": "code",
   "execution_count": 21,
   "id": "06d697d6-689d-41aa-8b95-aa4d8b691e74",
   "metadata": {},
   "outputs": [],
   "source": [
    "cnn_full = CNN(n_classes).to(device=device)"
   ]
  },
  {
   "cell_type": "code",
   "execution_count": 22,
   "id": "266f5b45-0be0-4888-853c-65c72127b461",
   "metadata": {},
   "outputs": [],
   "source": [
    "# Loss function for the CNN\n",
    "loss_function_cnn_full = nn.CrossEntropyLoss()"
   ]
  },
  {
   "cell_type": "code",
   "execution_count": 23,
   "id": "6b0d2bbc-3a38-4ea9-aa22-ffa547c4d584",
   "metadata": {},
   "outputs": [],
   "source": [
    "# Adam optimization parameters\n",
    "lr_cnn_full = 0.001\n",
    "betas_cnn_full = (0.9, 0.999)\n",
    "\n",
    "optimizer_cnn_full = torch.optim.Adam(cnn_full.parameters(), lr=lr_cnn_full, betas = betas_cnn_full)"
   ]
  },
  {
   "cell_type": "code",
   "execution_count": 24,
   "id": "26a8149f-20e6-4e7a-856e-f9940125eed2",
   "metadata": {},
   "outputs": [
    {
     "name": "stdout",
     "output_type": "stream",
     "text": [
      "Accuracy during training: 4.88%\n",
      "Accuracy during test:     4.88%\n",
      "Loss during training:     2.35\n",
      "\n",
      "CPU times: user 14.2 s, sys: 298 ms, total: 14.5 s\n",
      "Wall time: 14.4 s\n"
     ]
    }
   ],
   "source": [
    "%%time\n",
    "\n",
    "# Error metrics at initialisation\n",
    "\n",
    "losses_train_cnn_full     = np.zeros(n_epoch_cnn+1)\n",
    "accuracies_train_cnn_full = np.zeros(n_epoch_cnn+1)\n",
    "accuracies_test_cnn_full  = np.zeros(n_epoch_cnn+1)\n",
    "\n",
    "evaluate_raw_performances(cnn_full, full_train_loader, test_loader, full_train_n_batches, test_n_batches,\n",
    "                          losses_train_cnn_full, accuracies_train_cnn_full, accuracies_test_cnn_full, \n",
    "                          loss_function_cnn_full, optimizer_cnn_full)\n",
    "print()"
   ]
  },
  {
   "cell_type": "code",
   "execution_count": 25,
   "id": "02b02aad-02c7-488a-93b2-128e1135c156",
   "metadata": {},
   "outputs": [
    {
     "name": "stdout",
     "output_type": "stream",
     "text": [
      "Epoch [ 1/ 5]                 Accuracy: 0.0487                 Loss:     2.3496\n",
      "Epoch [ 2/ 5]                 Accuracy: 0.0486                 Loss:     2.3496\n"
     ]
    },
    {
     "ename": "KeyboardInterrupt",
     "evalue": "",
     "output_type": "error",
     "traceback": [
      "\u001b[0;31m---------------------------------------------------------------------------\u001b[0m",
      "\u001b[0;31mKeyboardInterrupt\u001b[0m                         Traceback (most recent call last)",
      "\u001b[0;32m<timed exec>\u001b[0m in \u001b[0;36m<module>\u001b[0;34m\u001b[0m\n",
      "\u001b[0;32m/tmp/ipykernel_42342/1270880365.py\u001b[0m in \u001b[0;36mtrain_cnn\u001b[0;34m(cnn, train_loader, test_loader, train_n_batches, test_n_batches, losses_train, accuracies_train, accuracies_test, loss_function, optimizer, n_epoch)\u001b[0m\n\u001b[1;32m      5\u001b[0m     \u001b[0;32mfor\u001b[0m \u001b[0mepoch\u001b[0m \u001b[0;32min\u001b[0m \u001b[0mrange\u001b[0m\u001b[0;34m(\u001b[0m\u001b[0mn_epoch\u001b[0m\u001b[0;34m)\u001b[0m\u001b[0;34m:\u001b[0m\u001b[0;34m\u001b[0m\u001b[0;34m\u001b[0m\u001b[0m\n\u001b[1;32m      6\u001b[0m         \u001b[0mcnn\u001b[0m\u001b[0;34m.\u001b[0m\u001b[0mtrain\u001b[0m\u001b[0;34m(\u001b[0m\u001b[0;34m)\u001b[0m\u001b[0;34m\u001b[0m\u001b[0;34m\u001b[0m\u001b[0m\n\u001b[0;32m----> 7\u001b[0;31m         \u001b[0;32mfor\u001b[0m \u001b[0mbatch_id\u001b[0m\u001b[0;34m,\u001b[0m \u001b[0;34m(\u001b[0m\u001b[0mdata\u001b[0m\u001b[0;34m,\u001b[0m \u001b[0mlabels\u001b[0m\u001b[0;34m)\u001b[0m \u001b[0;32min\u001b[0m \u001b[0menumerate\u001b[0m\u001b[0;34m(\u001b[0m\u001b[0mtrain_loader\u001b[0m\u001b[0;34m)\u001b[0m\u001b[0;34m:\u001b[0m\u001b[0;34m\u001b[0m\u001b[0;34m\u001b[0m\u001b[0m\n\u001b[0m\u001b[1;32m      8\u001b[0m             \u001b[0mdata\u001b[0m \u001b[0;34m=\u001b[0m \u001b[0mdata\u001b[0m\u001b[0;34m.\u001b[0m\u001b[0mreshape\u001b[0m\u001b[0;34m(\u001b[0m\u001b[0;34m(\u001b[0m\u001b[0;34m-\u001b[0m\u001b[0;36m1\u001b[0m\u001b[0;34m,\u001b[0m\u001b[0;36m1\u001b[0m\u001b[0;34m,\u001b[0m\u001b[0;36m28\u001b[0m\u001b[0;34m,\u001b[0m\u001b[0;36m28\u001b[0m\u001b[0;34m)\u001b[0m\u001b[0;34m)\u001b[0m\u001b[0;34m\u001b[0m\u001b[0;34m\u001b[0m\u001b[0m\n\u001b[1;32m      9\u001b[0m             \u001b[0mdata\u001b[0m \u001b[0;34m=\u001b[0m \u001b[0mdata\u001b[0m\u001b[0;34m.\u001b[0m\u001b[0mto\u001b[0m\u001b[0;34m(\u001b[0m\u001b[0mdevice\u001b[0m\u001b[0;34m)\u001b[0m\u001b[0;34m\u001b[0m\u001b[0;34m\u001b[0m\u001b[0m\n",
      "\u001b[0;32m~/anaconda3/envs/linma/lib/python3.9/site-packages/torch/utils/data/dataloader.py\u001b[0m in \u001b[0;36m__next__\u001b[0;34m(self)\u001b[0m\n\u001b[1;32m    626\u001b[0m                 \u001b[0;31m# TODO(https://github.com/pytorch/pytorch/issues/76750)\u001b[0m\u001b[0;34m\u001b[0m\u001b[0;34m\u001b[0m\u001b[0m\n\u001b[1;32m    627\u001b[0m                 \u001b[0mself\u001b[0m\u001b[0;34m.\u001b[0m\u001b[0m_reset\u001b[0m\u001b[0;34m(\u001b[0m\u001b[0;34m)\u001b[0m  \u001b[0;31m# type: ignore[call-arg]\u001b[0m\u001b[0;34m\u001b[0m\u001b[0;34m\u001b[0m\u001b[0m\n\u001b[0;32m--> 628\u001b[0;31m             \u001b[0mdata\u001b[0m \u001b[0;34m=\u001b[0m \u001b[0mself\u001b[0m\u001b[0;34m.\u001b[0m\u001b[0m_next_data\u001b[0m\u001b[0;34m(\u001b[0m\u001b[0;34m)\u001b[0m\u001b[0;34m\u001b[0m\u001b[0;34m\u001b[0m\u001b[0m\n\u001b[0m\u001b[1;32m    629\u001b[0m             \u001b[0mself\u001b[0m\u001b[0;34m.\u001b[0m\u001b[0m_num_yielded\u001b[0m \u001b[0;34m+=\u001b[0m \u001b[0;36m1\u001b[0m\u001b[0;34m\u001b[0m\u001b[0;34m\u001b[0m\u001b[0m\n\u001b[1;32m    630\u001b[0m             \u001b[0;32mif\u001b[0m \u001b[0mself\u001b[0m\u001b[0;34m.\u001b[0m\u001b[0m_dataset_kind\u001b[0m \u001b[0;34m==\u001b[0m \u001b[0m_DatasetKind\u001b[0m\u001b[0;34m.\u001b[0m\u001b[0mIterable\u001b[0m \u001b[0;32mand\u001b[0m\u001b[0;31m \u001b[0m\u001b[0;31m\\\u001b[0m\u001b[0;34m\u001b[0m\u001b[0;34m\u001b[0m\u001b[0m\n",
      "\u001b[0;32m~/anaconda3/envs/linma/lib/python3.9/site-packages/torch/utils/data/dataloader.py\u001b[0m in \u001b[0;36m_next_data\u001b[0;34m(self)\u001b[0m\n\u001b[1;32m    669\u001b[0m     \u001b[0;32mdef\u001b[0m \u001b[0m_next_data\u001b[0m\u001b[0;34m(\u001b[0m\u001b[0mself\u001b[0m\u001b[0;34m)\u001b[0m\u001b[0;34m:\u001b[0m\u001b[0;34m\u001b[0m\u001b[0;34m\u001b[0m\u001b[0m\n\u001b[1;32m    670\u001b[0m         \u001b[0mindex\u001b[0m \u001b[0;34m=\u001b[0m \u001b[0mself\u001b[0m\u001b[0;34m.\u001b[0m\u001b[0m_next_index\u001b[0m\u001b[0;34m(\u001b[0m\u001b[0;34m)\u001b[0m  \u001b[0;31m# may raise StopIteration\u001b[0m\u001b[0;34m\u001b[0m\u001b[0;34m\u001b[0m\u001b[0m\n\u001b[0;32m--> 671\u001b[0;31m         \u001b[0mdata\u001b[0m \u001b[0;34m=\u001b[0m \u001b[0mself\u001b[0m\u001b[0;34m.\u001b[0m\u001b[0m_dataset_fetcher\u001b[0m\u001b[0;34m.\u001b[0m\u001b[0mfetch\u001b[0m\u001b[0;34m(\u001b[0m\u001b[0mindex\u001b[0m\u001b[0;34m)\u001b[0m  \u001b[0;31m# may raise StopIteration\u001b[0m\u001b[0;34m\u001b[0m\u001b[0;34m\u001b[0m\u001b[0m\n\u001b[0m\u001b[1;32m    672\u001b[0m         \u001b[0;32mif\u001b[0m \u001b[0mself\u001b[0m\u001b[0;34m.\u001b[0m\u001b[0m_pin_memory\u001b[0m\u001b[0;34m:\u001b[0m\u001b[0;34m\u001b[0m\u001b[0;34m\u001b[0m\u001b[0m\n\u001b[1;32m    673\u001b[0m             \u001b[0mdata\u001b[0m \u001b[0;34m=\u001b[0m \u001b[0m_utils\u001b[0m\u001b[0;34m.\u001b[0m\u001b[0mpin_memory\u001b[0m\u001b[0;34m.\u001b[0m\u001b[0mpin_memory\u001b[0m\u001b[0;34m(\u001b[0m\u001b[0mdata\u001b[0m\u001b[0;34m,\u001b[0m \u001b[0mself\u001b[0m\u001b[0;34m.\u001b[0m\u001b[0m_pin_memory_device\u001b[0m\u001b[0;34m)\u001b[0m\u001b[0;34m\u001b[0m\u001b[0;34m\u001b[0m\u001b[0m\n",
      "\u001b[0;32m~/anaconda3/envs/linma/lib/python3.9/site-packages/torch/utils/data/_utils/fetch.py\u001b[0m in \u001b[0;36mfetch\u001b[0;34m(self, possibly_batched_index)\u001b[0m\n\u001b[1;32m     56\u001b[0m                 \u001b[0mdata\u001b[0m \u001b[0;34m=\u001b[0m \u001b[0mself\u001b[0m\u001b[0;34m.\u001b[0m\u001b[0mdataset\u001b[0m\u001b[0;34m.\u001b[0m\u001b[0m__getitems__\u001b[0m\u001b[0;34m(\u001b[0m\u001b[0mpossibly_batched_index\u001b[0m\u001b[0;34m)\u001b[0m\u001b[0;34m\u001b[0m\u001b[0;34m\u001b[0m\u001b[0m\n\u001b[1;32m     57\u001b[0m             \u001b[0;32melse\u001b[0m\u001b[0;34m:\u001b[0m\u001b[0;34m\u001b[0m\u001b[0;34m\u001b[0m\u001b[0m\n\u001b[0;32m---> 58\u001b[0;31m                 \u001b[0mdata\u001b[0m \u001b[0;34m=\u001b[0m \u001b[0;34m[\u001b[0m\u001b[0mself\u001b[0m\u001b[0;34m.\u001b[0m\u001b[0mdataset\u001b[0m\u001b[0;34m[\u001b[0m\u001b[0midx\u001b[0m\u001b[0;34m]\u001b[0m \u001b[0;32mfor\u001b[0m \u001b[0midx\u001b[0m \u001b[0;32min\u001b[0m \u001b[0mpossibly_batched_index\u001b[0m\u001b[0;34m]\u001b[0m\u001b[0;34m\u001b[0m\u001b[0;34m\u001b[0m\u001b[0m\n\u001b[0m\u001b[1;32m     59\u001b[0m         \u001b[0;32melse\u001b[0m\u001b[0;34m:\u001b[0m\u001b[0;34m\u001b[0m\u001b[0;34m\u001b[0m\u001b[0m\n\u001b[1;32m     60\u001b[0m             \u001b[0mdata\u001b[0m \u001b[0;34m=\u001b[0m \u001b[0mself\u001b[0m\u001b[0;34m.\u001b[0m\u001b[0mdataset\u001b[0m\u001b[0;34m[\u001b[0m\u001b[0mpossibly_batched_index\u001b[0m\u001b[0;34m]\u001b[0m\u001b[0;34m\u001b[0m\u001b[0;34m\u001b[0m\u001b[0m\n",
      "\u001b[0;32m~/anaconda3/envs/linma/lib/python3.9/site-packages/torch/utils/data/_utils/fetch.py\u001b[0m in \u001b[0;36m<listcomp>\u001b[0;34m(.0)\u001b[0m\n\u001b[1;32m     56\u001b[0m                 \u001b[0mdata\u001b[0m \u001b[0;34m=\u001b[0m \u001b[0mself\u001b[0m\u001b[0;34m.\u001b[0m\u001b[0mdataset\u001b[0m\u001b[0;34m.\u001b[0m\u001b[0m__getitems__\u001b[0m\u001b[0;34m(\u001b[0m\u001b[0mpossibly_batched_index\u001b[0m\u001b[0;34m)\u001b[0m\u001b[0;34m\u001b[0m\u001b[0;34m\u001b[0m\u001b[0m\n\u001b[1;32m     57\u001b[0m             \u001b[0;32melse\u001b[0m\u001b[0;34m:\u001b[0m\u001b[0;34m\u001b[0m\u001b[0;34m\u001b[0m\u001b[0m\n\u001b[0;32m---> 58\u001b[0;31m                 \u001b[0mdata\u001b[0m \u001b[0;34m=\u001b[0m \u001b[0;34m[\u001b[0m\u001b[0mself\u001b[0m\u001b[0;34m.\u001b[0m\u001b[0mdataset\u001b[0m\u001b[0;34m[\u001b[0m\u001b[0midx\u001b[0m\u001b[0;34m]\u001b[0m \u001b[0;32mfor\u001b[0m \u001b[0midx\u001b[0m \u001b[0;32min\u001b[0m \u001b[0mpossibly_batched_index\u001b[0m\u001b[0;34m]\u001b[0m\u001b[0;34m\u001b[0m\u001b[0;34m\u001b[0m\u001b[0m\n\u001b[0m\u001b[1;32m     59\u001b[0m         \u001b[0;32melse\u001b[0m\u001b[0;34m:\u001b[0m\u001b[0;34m\u001b[0m\u001b[0;34m\u001b[0m\u001b[0m\n\u001b[1;32m     60\u001b[0m             \u001b[0mdata\u001b[0m \u001b[0;34m=\u001b[0m \u001b[0mself\u001b[0m\u001b[0;34m.\u001b[0m\u001b[0mdataset\u001b[0m\u001b[0;34m[\u001b[0m\u001b[0mpossibly_batched_index\u001b[0m\u001b[0;34m]\u001b[0m\u001b[0;34m\u001b[0m\u001b[0;34m\u001b[0m\u001b[0m\n",
      "\u001b[0;32m~/anaconda3/envs/linma/lib/python3.9/site-packages/torchvision/datasets/mnist.py\u001b[0m in \u001b[0;36m__getitem__\u001b[0;34m(self, index)\u001b[0m\n\u001b[1;32m    143\u001b[0m \u001b[0;34m\u001b[0m\u001b[0m\n\u001b[1;32m    144\u001b[0m         \u001b[0;32mif\u001b[0m \u001b[0mself\u001b[0m\u001b[0;34m.\u001b[0m\u001b[0mtransform\u001b[0m \u001b[0;32mis\u001b[0m \u001b[0;32mnot\u001b[0m \u001b[0;32mNone\u001b[0m\u001b[0;34m:\u001b[0m\u001b[0;34m\u001b[0m\u001b[0;34m\u001b[0m\u001b[0m\n\u001b[0;32m--> 145\u001b[0;31m             \u001b[0mimg\u001b[0m \u001b[0;34m=\u001b[0m \u001b[0mself\u001b[0m\u001b[0;34m.\u001b[0m\u001b[0mtransform\u001b[0m\u001b[0;34m(\u001b[0m\u001b[0mimg\u001b[0m\u001b[0;34m)\u001b[0m\u001b[0;34m\u001b[0m\u001b[0;34m\u001b[0m\u001b[0m\n\u001b[0m\u001b[1;32m    146\u001b[0m \u001b[0;34m\u001b[0m\u001b[0m\n\u001b[1;32m    147\u001b[0m         \u001b[0;32mif\u001b[0m \u001b[0mself\u001b[0m\u001b[0;34m.\u001b[0m\u001b[0mtarget_transform\u001b[0m \u001b[0;32mis\u001b[0m \u001b[0;32mnot\u001b[0m \u001b[0;32mNone\u001b[0m\u001b[0;34m:\u001b[0m\u001b[0;34m\u001b[0m\u001b[0;34m\u001b[0m\u001b[0m\n",
      "\u001b[0;32m~/anaconda3/envs/linma/lib/python3.9/site-packages/torchvision/transforms/transforms.py\u001b[0m in \u001b[0;36m__call__\u001b[0;34m(self, img)\u001b[0m\n\u001b[1;32m     93\u001b[0m     \u001b[0;32mdef\u001b[0m \u001b[0m__call__\u001b[0m\u001b[0;34m(\u001b[0m\u001b[0mself\u001b[0m\u001b[0;34m,\u001b[0m \u001b[0mimg\u001b[0m\u001b[0;34m)\u001b[0m\u001b[0;34m:\u001b[0m\u001b[0;34m\u001b[0m\u001b[0;34m\u001b[0m\u001b[0m\n\u001b[1;32m     94\u001b[0m         \u001b[0;32mfor\u001b[0m \u001b[0mt\u001b[0m \u001b[0;32min\u001b[0m \u001b[0mself\u001b[0m\u001b[0;34m.\u001b[0m\u001b[0mtransforms\u001b[0m\u001b[0;34m:\u001b[0m\u001b[0;34m\u001b[0m\u001b[0;34m\u001b[0m\u001b[0m\n\u001b[0;32m---> 95\u001b[0;31m             \u001b[0mimg\u001b[0m \u001b[0;34m=\u001b[0m \u001b[0mt\u001b[0m\u001b[0;34m(\u001b[0m\u001b[0mimg\u001b[0m\u001b[0;34m)\u001b[0m\u001b[0;34m\u001b[0m\u001b[0;34m\u001b[0m\u001b[0m\n\u001b[0m\u001b[1;32m     96\u001b[0m         \u001b[0;32mreturn\u001b[0m \u001b[0mimg\u001b[0m\u001b[0;34m\u001b[0m\u001b[0;34m\u001b[0m\u001b[0m\n\u001b[1;32m     97\u001b[0m \u001b[0;34m\u001b[0m\u001b[0m\n",
      "\u001b[0;32m~/anaconda3/envs/linma/lib/python3.9/site-packages/torch/nn/modules/module.py\u001b[0m in \u001b[0;36m_call_impl\u001b[0;34m(self, *input, **kwargs)\u001b[0m\n\u001b[1;32m   1188\u001b[0m         if not (self._backward_hooks or self._forward_hooks or self._forward_pre_hooks or _global_backward_hooks\n\u001b[1;32m   1189\u001b[0m                 or _global_forward_hooks or _global_forward_pre_hooks):\n\u001b[0;32m-> 1190\u001b[0;31m             \u001b[0;32mreturn\u001b[0m \u001b[0mforward_call\u001b[0m\u001b[0;34m(\u001b[0m\u001b[0;34m*\u001b[0m\u001b[0minput\u001b[0m\u001b[0;34m,\u001b[0m \u001b[0;34m**\u001b[0m\u001b[0mkwargs\u001b[0m\u001b[0;34m)\u001b[0m\u001b[0;34m\u001b[0m\u001b[0;34m\u001b[0m\u001b[0m\n\u001b[0m\u001b[1;32m   1191\u001b[0m         \u001b[0;31m# Do not call functions when jit is used\u001b[0m\u001b[0;34m\u001b[0m\u001b[0;34m\u001b[0m\u001b[0m\n\u001b[1;32m   1192\u001b[0m         \u001b[0mfull_backward_hooks\u001b[0m\u001b[0;34m,\u001b[0m \u001b[0mnon_full_backward_hooks\u001b[0m \u001b[0;34m=\u001b[0m \u001b[0;34m[\u001b[0m\u001b[0;34m]\u001b[0m\u001b[0;34m,\u001b[0m \u001b[0;34m[\u001b[0m\u001b[0;34m]\u001b[0m\u001b[0;34m\u001b[0m\u001b[0;34m\u001b[0m\u001b[0m\n",
      "\u001b[0;32m~/anaconda3/envs/linma/lib/python3.9/site-packages/torchvision/transforms/transforms.py\u001b[0m in \u001b[0;36mforward\u001b[0;34m(self, tensor)\u001b[0m\n\u001b[1;32m    268\u001b[0m             \u001b[0mTensor\u001b[0m\u001b[0;34m:\u001b[0m \u001b[0mNormalized\u001b[0m \u001b[0mTensor\u001b[0m \u001b[0mimage\u001b[0m\u001b[0;34m.\u001b[0m\u001b[0;34m\u001b[0m\u001b[0;34m\u001b[0m\u001b[0m\n\u001b[1;32m    269\u001b[0m         \"\"\"\n\u001b[0;32m--> 270\u001b[0;31m         \u001b[0;32mreturn\u001b[0m \u001b[0mF\u001b[0m\u001b[0;34m.\u001b[0m\u001b[0mnormalize\u001b[0m\u001b[0;34m(\u001b[0m\u001b[0mtensor\u001b[0m\u001b[0;34m,\u001b[0m \u001b[0mself\u001b[0m\u001b[0;34m.\u001b[0m\u001b[0mmean\u001b[0m\u001b[0;34m,\u001b[0m \u001b[0mself\u001b[0m\u001b[0;34m.\u001b[0m\u001b[0mstd\u001b[0m\u001b[0;34m,\u001b[0m \u001b[0mself\u001b[0m\u001b[0;34m.\u001b[0m\u001b[0minplace\u001b[0m\u001b[0;34m)\u001b[0m\u001b[0;34m\u001b[0m\u001b[0;34m\u001b[0m\u001b[0m\n\u001b[0m\u001b[1;32m    271\u001b[0m \u001b[0;34m\u001b[0m\u001b[0m\n\u001b[1;32m    272\u001b[0m     \u001b[0;32mdef\u001b[0m \u001b[0m__repr__\u001b[0m\u001b[0;34m(\u001b[0m\u001b[0mself\u001b[0m\u001b[0;34m)\u001b[0m \u001b[0;34m->\u001b[0m \u001b[0mstr\u001b[0m\u001b[0;34m:\u001b[0m\u001b[0;34m\u001b[0m\u001b[0;34m\u001b[0m\u001b[0m\n",
      "\u001b[0;32m~/anaconda3/envs/linma/lib/python3.9/site-packages/torchvision/transforms/functional.py\u001b[0m in \u001b[0;36mnormalize\u001b[0;34m(tensor, mean, std, inplace)\u001b[0m\n\u001b[1;32m    358\u001b[0m         \u001b[0;32mraise\u001b[0m \u001b[0mTypeError\u001b[0m\u001b[0;34m(\u001b[0m\u001b[0;34mf\"img should be Tensor Image. Got {type(tensor)}\"\u001b[0m\u001b[0;34m)\u001b[0m\u001b[0;34m\u001b[0m\u001b[0;34m\u001b[0m\u001b[0m\n\u001b[1;32m    359\u001b[0m \u001b[0;34m\u001b[0m\u001b[0m\n\u001b[0;32m--> 360\u001b[0;31m     \u001b[0;32mreturn\u001b[0m \u001b[0mF_t\u001b[0m\u001b[0;34m.\u001b[0m\u001b[0mnormalize\u001b[0m\u001b[0;34m(\u001b[0m\u001b[0mtensor\u001b[0m\u001b[0;34m,\u001b[0m \u001b[0mmean\u001b[0m\u001b[0;34m=\u001b[0m\u001b[0mmean\u001b[0m\u001b[0;34m,\u001b[0m \u001b[0mstd\u001b[0m\u001b[0;34m=\u001b[0m\u001b[0mstd\u001b[0m\u001b[0;34m,\u001b[0m \u001b[0minplace\u001b[0m\u001b[0;34m=\u001b[0m\u001b[0minplace\u001b[0m\u001b[0;34m)\u001b[0m\u001b[0;34m\u001b[0m\u001b[0;34m\u001b[0m\u001b[0m\n\u001b[0m\u001b[1;32m    361\u001b[0m \u001b[0;34m\u001b[0m\u001b[0m\n\u001b[1;32m    362\u001b[0m \u001b[0;34m\u001b[0m\u001b[0m\n",
      "\u001b[0;32m~/anaconda3/envs/linma/lib/python3.9/site-packages/torchvision/transforms/functional_tensor.py\u001b[0m in \u001b[0;36mnormalize\u001b[0;34m(tensor, mean, std, inplace)\u001b[0m\n\u001b[1;32m    927\u001b[0m \u001b[0;34m\u001b[0m\u001b[0m\n\u001b[1;32m    928\u001b[0m     \u001b[0;32mif\u001b[0m \u001b[0;32mnot\u001b[0m \u001b[0minplace\u001b[0m\u001b[0;34m:\u001b[0m\u001b[0;34m\u001b[0m\u001b[0;34m\u001b[0m\u001b[0m\n\u001b[0;32m--> 929\u001b[0;31m         \u001b[0mtensor\u001b[0m \u001b[0;34m=\u001b[0m \u001b[0mtensor\u001b[0m\u001b[0;34m.\u001b[0m\u001b[0mclone\u001b[0m\u001b[0;34m(\u001b[0m\u001b[0;34m)\u001b[0m\u001b[0;34m\u001b[0m\u001b[0;34m\u001b[0m\u001b[0m\n\u001b[0m\u001b[1;32m    930\u001b[0m \u001b[0;34m\u001b[0m\u001b[0m\n\u001b[1;32m    931\u001b[0m     \u001b[0mdtype\u001b[0m \u001b[0;34m=\u001b[0m \u001b[0mtensor\u001b[0m\u001b[0;34m.\u001b[0m\u001b[0mdtype\u001b[0m\u001b[0;34m\u001b[0m\u001b[0;34m\u001b[0m\u001b[0m\n",
      "\u001b[0;31mKeyboardInterrupt\u001b[0m: "
     ]
    }
   ],
   "source": [
    "%%time\n",
    "train_cnn(cnn_full, full_train_loader, test_loader, full_train_n_batches, test_n_batches,\n",
    "          losses_train_cnn_full, accuracies_train_cnn_full, accuracies_test_cnn_full, \n",
    "          loss_function_cnn_full, optimizer_cnn_full,n_epoch_cnn)\n",
    "\n",
    "print()\n",
    "torch.cuda.empty_cache() "
   ]
  },
  {
   "cell_type": "code",
   "execution_count": 27,
   "id": "ea0f7be3-606b-4d39-a372-ba79baf53b94",
   "metadata": {},
   "outputs": [
    {
     "data": {
      "image/png": "[encoded data removed]",
      "text/plain": [
       "<Figure size 1200x1200 with 2 Axes>"
      ]
     },
     "metadata": {},
     "output_type": "display_data"
    }
   ],
   "source": [
    "# Plots of accuracy and of loss function, images generated from your reference sample.\n",
    "epochs = np.arange(n_epoch_cnn+1)\n",
    "fig, (ax1, ax2) = plt.subplots(2, 1, figsize=(12,12))\n",
    "\n",
    "ax1.plot(epochs, accuracies_train_cnn_full, label = \"Error during training\")\n",
    "ax1.plot(epochs, accuracies_test_cnn_full, label = \"Error during test\")\n",
    "ax1.set_title('Accuracy of CNN fith full dataset')\n",
    "ax1.set_xlabel('Epoch')\n",
    "ax1.legend()\n",
    "\n",
    "ax2.plot(epochs, losses_train_cnn_full)\n",
    "ax2.set_title('CNN loss with full dataset')\n",
    "ax2.set_xlabel('Epoch')\n",
    "\n",
    "\n",
    "for ax in (ax1, ax2):\n",
    "    ax.xaxis.set_major_locator(MaxNLocator(integer=True))\n",
    "    ax.xaxis.set_major_formatter(FormatStrFormatter('%.0f'))\n",
    "\n",
    "#plt.savefig(\"../figures/CNN_Metrics_full.png\")"
   ]
  },
  {
   "cell_type": "code",
   "execution_count": null,
   "id": "927614e7-be5d-493f-a5af-9d033d54e78b",
   "metadata": {},
   "outputs": [],
   "source": [
    "# Delete some, now, useless variables\n",
    "del loss_function_cnn_full, lr_cnn_full, betas_cnn_full, optimizer_cnn_full"
   ]
  },
  {
   "cell_type": "markdown",
   "id": "695f5b7e-5f76-4a0e-9cbc-21bcc50eb441",
   "metadata": {
    "tags": []
   },
   "source": [
    "## Train CNN on reduced data set"
   ]
  },
  {
   "cell_type": "code",
   "execution_count": null,
   "id": "fdbadefe-8e7c-4d03-acc7-2a020bd43383",
   "metadata": {},
   "outputs": [],
   "source": [
    "cnn_reduced = CNN(n_classes).to(device=device)"
   ]
  },
  {
   "cell_type": "code",
   "execution_count": null,
   "id": "03fad045-4731-44db-ba9c-2db469386fb7",
   "metadata": {},
   "outputs": [],
   "source": [
    "# Loss function for the CNN\n",
    "loss_function_cnn_reduced = nn.CrossEntropyLoss()"
   ]
  },
  {
   "cell_type": "code",
   "execution_count": null,
   "id": "c97aa99f-cd59-4ef2-bfca-91d46dadf345",
   "metadata": {},
   "outputs": [],
   "source": [
    "# Adam optimization parameters\n",
    "lr_cnn_reduced = 0.001\n",
    "betas_cnn_reduced = (0.9, 0.999)\n",
    "\n",
    "optimizer_cnn_reduced = torch.optim.Adam(cnn_reduced.parameters(), lr=lr_cnn_reduced, betas = betas_cnn_reduced)"
   ]
  },
  {
   "cell_type": "code",
   "execution_count": null,
   "id": "689ae354-08f5-470f-b1a0-0a7452f13ce3",
   "metadata": {},
   "outputs": [],
   "source": [
    "%%time\n",
    "\n",
    "# Error metrics at initialisation\n",
    "\n",
    "losses_train_cnn_reduced     = np.zeros(n_epoch_cnn+1)\n",
    "accuracies_train_cnn_reduced = np.zeros(n_epoch_cnn+1)\n",
    "accuracies_test_cnn_reduced  = np.zeros(n_epoch_cnn+1)\n",
    "\n",
    "evaluate_raw_performances(cnn_reduced, reduced_train_loader, test_loader, reduced_train_n_batches, test_n_batches,\n",
    "                          losses_train_cnn_reduced, accuracies_train_cnn_reduced, accuracies_test_cnn_reduced, \n",
    "                          loss_function_cnn_reduced, optimizer_cnn_reduced)\n",
    "\n",
    "print()"
   ]
  },
  {
   "cell_type": "code",
   "execution_count": null,
   "id": "eae375d7-6ce9-41f0-800b-b09d03309cb0",
   "metadata": {},
   "outputs": [],
   "source": [
    "%%time\n",
    "train_cnn(cnn_reduced, reduced_train_loader, test_loader, reduced_train_n_batches, test_n_batches,\n",
    "          losses_train_cnn_reduced, accuracies_train_cnn_reduced, accuracies_test_cnn_reduced, \n",
    "          loss_function_cnn_reduced, optimizer_cnn_reduced,n_epoch_cnn)\n",
    "\n",
    "print()\n",
    "torch.cuda.empty_cache() "
   ]
  },
  {
   "cell_type": "code",
   "execution_count": null,
   "id": "cd923609-278b-4e04-b982-ea01c3751b09",
   "metadata": {},
   "outputs": [],
   "source": [
    "# Plots of accuracy and of loss function, images generated from your reference sample.\n",
    "epochs = np.arange(n_epoch_cnn+1)\n",
    "fig, (ax1, ax2) = plt.subplots(2, 1, figsize=(12,12))\n",
    "\n",
    "ax1.plot(epochs, accuracies_train_cnn_reduced, label = \"Error during training\")\n",
    "ax1.plot(epochs, accuracies_test_cnn_reduced, label = \"Error during test\")\n",
    "ax1.set_title('Accuracy of CNN with reduced dataset')\n",
    "ax1.set_xlabel('Epoch')\n",
    "ax1.legend()\n",
    "\n",
    "ax2.plot(epochs, losses_train_cnn_reduced)\n",
    "ax2.set_title('CNN loss with reduced dataset')\n",
    "ax2.set_xlabel('Epoch')\n",
    "\n",
    "\n",
    "for ax in (ax1, ax2):\n",
    "    ax.xaxis.set_major_locator(MaxNLocator(integer=True))\n",
    "    ax.xaxis.set_major_formatter(FormatStrFormatter('%.0f'))\n",
    "\n",
    "plt.savefig(\"../figures/CNN_Metrics_reduced.png\")"
   ]
  },
  {
   "cell_type": "code",
   "execution_count": null,
   "id": "b029e6f6-1d8e-4e07-8f77-6293b4b57840",
   "metadata": {},
   "outputs": [],
   "source": [
    "# Delete some, now, useless variables\n",
    "del loss_function_cnn_reduced, lr_cnn_reduced, betas_cnn_reduced, optimizer_cnn_reduced"
   ]
  },
  {
   "cell_type": "code",
   "execution_count": null,
   "id": "4b198754-3703-407d-957c-c4c244ba53bf",
   "metadata": {},
   "outputs": [],
   "source": [
    "# Plots of accuracy and of loss function, images generated from your reference sample.\n",
    "epochs = np.arange(n_epoch_cnn+1)\n",
    "fig,  ax1= plt.subplots(1, 1, figsize=(12,6))\n",
    "\n",
    "ax1.plot(epochs, accuracies_test_cnn_reduced, label = \"Dataset reduced to 5%\")\n",
    "ax1.plot(epochs, accuracies_test_cnn_full, label = \"Full dataset\")\n",
    "ax1.set_title('Accuracy of CNN during test')\n",
    "ax1.set_xlabel('Epoch')\n",
    "ax1.legend()\n",
    "\n",
    "for ax in (ax1, ax2):\n",
    "    ax.xaxis.set_major_locator(MaxNLocator(integer=True))\n",
    "    ax.xaxis.set_major_formatter(FormatStrFormatter('%.0f'))\n",
    "\n",
    "plt.savefig(\"../figures/CNN_Accuracy_comparison.png\")"
   ]
  },
  {
   "cell_type": "markdown",
   "id": "18c74529-267e-4414-b9f5-55abf562b499",
   "metadata": {},
   "source": [
    "# Data augmentation\n",
    "In this section we will explore mutliple data augmentation techniques and observe their effect on the CNN models"
   ]
  },
  {
   "cell_type": "markdown",
   "id": "046e8d5d-9ef0-4b1e-80d7-ef7a4b1b380e",
   "metadata": {},
   "source": [
    "## Synthetic Minority Over-sampling Technique (SMOTE)\n",
    "SMOTE (Synthetic Minority Oversampling Technique) is a popular technique for oversampling in imbalanced data sets in machine learning. It is used to synthesize new minority class examples in order to increase the number of minority class instances and balance the class distribution.\n",
    "\n",
    "The goal of SMOTE is to address the issue of imbalanced data sets, where one class (the minority class) is significantly underrepresented compared to the other class (the majority class). In such cases, machine learning algorithms can often have a biased learning towards the majority class, leading to poor performance on the minority class. By synthesizing new minority class examples, SMOTE helps to balance the class distribution and improve the performance of the model on the minority class."
   ]
  },
  {
   "cell_type": "code",
   "execution_count": null,
   "id": "ae00cbd1-d1de-4f57-98b0-f74e21036f3f",
   "metadata": {},
   "outputs": [],
   "source": [
    "reduced_train_set.tensors[1]\n",
    "\n",
    "n_full = np.zeros(n_classes)\n",
    "n_reduced = np.zeros(n_classes)\n",
    "for label in range(n_classes):\n",
    "    n_full[label] = torch.sum((full_train_set.targets == label).int())\n",
    "    n_reduced[label] = torch.sum((reduced_train_set.tensors[1] == label).int())\n",
    "\n",
    "p_full = n_full/full_train_set_size\n",
    "p_reduced = n_reduced/reduced_train_set_size\n",
    "\n",
    "x = np.arange(n_classes)  # the label locations\n",
    "width = 0.35       # the width of the bars\n",
    "\n",
    "fig, ax = plt.subplots()\n",
    "rects1 = ax.bar(x - width/2, p_full*100, width, label='Full dataset')\n",
    "rects2 = ax.bar(x + width/2, p_reduced*100, width, label='Reduced dataset')\n",
    "\n",
    "# Add some text for labels, title and custom x-axis tick labels, etc.\n",
    "ax.set_ylabel('Probability [%]')\n",
    "ax.set_title(f'Comparison of repartition between label in full and reduced dataset')\n",
    "ax.set_xticks(x, x)\n",
    "ax.legend(loc='lower center',bbox_to_anchor=(.5,-.25))\n",
    "\n",
    "fig.tight_layout()\n",
    "\n",
    "plt.savefig(\"../figures/labels_repartition_initial\")\n",
    "plt.show()\n"
   ]
  },
  {
   "cell_type": "markdown",
   "id": "782c0fcf-5a1d-4948-980c-c251b2db0b1e",
   "metadata": {},
   "source": [
    "We can observe that the full fashion MNIST dataset is perfectly balanced. We are going to apply SMOTE methode to balance our reduced dataset."
   ]
  },
  {
   "cell_type": "code",
   "execution_count": null,
   "id": "42014585-15ec-452a-8be3-b18d80fac421",
   "metadata": {},
   "outputs": [],
   "source": [
    "smote_data = torch.clone(reduced_data)\n",
    "smote_labels = torch.clone(reduced_labels)"
   ]
  },
  {
   "cell_type": "code",
   "execution_count": null,
   "id": "1c6ee16c-53e8-48c9-9690-a79b3fdc56d6",
   "metadata": {},
   "outputs": [],
   "source": [
    "n_max = int(np.max(n_reduced))\n",
    "\n",
    "for label in range(n_classes):\n",
    "    idxs = np.arange(reduced_train_set_size)[reduced_train_set.tensors[1]==label]\n",
    "    \n",
    "    n_missing = int(n_max-n_reduced[label])\n",
    "    print(f\"\\nGenerating {n_missing:2d} images of label '{full_train_set.classes[label]}' with 10% of the set\")\n",
    "    for i in range(n_missing):\n",
    "        idxs = np.random.choice(np.arange(n_classes), int(n_reduced[label]*0.1))\n",
    "        smote_data = torch.vstack((smote_data, torch.mean(reduced_data[idxs], dim=0).reshape((1,28,28))))\n",
    "        smote_labels = torch.hstack((smote_labels, torch.tensor([label])))"
   ]
  },
  {
   "cell_type": "code",
   "execution_count": null,
   "id": "c828b844-a674-49f0-8094-e4211f9b08ce",
   "metadata": {},
   "outputs": [],
   "source": [
    "smote_train_set = torch.utils.data.TensorDataset(smote_data, smote_labels)\n",
    "smote_train_set_size = len(smote_data)\n",
    "\n",
    "smote_train_loader, smote_train_n_batches = divideInBatches(smote_train_set, batch_size)"
   ]
  },
  {
   "cell_type": "code",
   "execution_count": null,
   "id": "3081b700-1deb-4bfb-b271-345323bfcd79",
   "metadata": {},
   "outputs": [],
   "source": [
    "reduced_train_set.tensors[1]\n",
    "\n",
    "n_smote = np.zeros(n_classes)\n",
    "for label in range(n_classes):\n",
    "    n_smote[label] = torch.sum((smote_labels == label).int())\n",
    "\n",
    "p_smote = n_smote/smote_train_set_size\n",
    "\n",
    "x = np.arange(n_classes)  # the label locations\n",
    "width = 0.25       # the width of the bars\n",
    "\n",
    "fig, ax = plt.subplots()\n",
    "rects1 = ax.bar(x - width, p_full*100, width, label='Full dataset')\n",
    "rects2 = ax.bar(x , p_reduced*100, width, label='Reduced dataset')\n",
    "rects3 = ax.bar(x + width, p_smote*100, width, label='SMOTE dataset')\n",
    "\n",
    "# Add some text for labels, title and custom x-axis tick labels, etc.\n",
    "ax.set_ylabel('Probability [%]')\n",
    "ax.set_title(f'Comparison of repartition between label in full and reduced dataset')\n",
    "ax.set_xticks(x, x)\n",
    "ax.legend(loc='lower center',bbox_to_anchor=(.5,-.35))\n",
    "\n",
    "fig.tight_layout()\n",
    "\n",
    "plt.savefig(\"../figures/labels_repartition_smote\")\n",
    "plt.show()"
   ]
  },
  {
   "cell_type": "markdown",
   "id": "b0014c1b-570c-4bc7-9f4f-42e9822ef586",
   "metadata": {},
   "source": [
    "The dataset obtained after SMOTE method is indeed balanced as we can see. This dataset does now contain:"
   ]
  },
  {
   "cell_type": "code",
   "execution_count": null,
   "id": "eb0428d8-1a55-45f4-8f05-1e1e0392310d",
   "metadata": {},
   "outputs": [],
   "source": [
    "print(f\"{smote_train_set_size} records. It corresponds to an augmentation of +{100.*(smote_train_set_size/reduced_train_set_size-1.):.2f}% in comparison to the initial reduced dataset.\")"
   ]
  },
  {
   "cell_type": "code",
   "execution_count": null,
   "id": "5ae9913c-5923-43f8-a74f-5cec5ee78c19",
   "metadata": {},
   "outputs": [],
   "source": [
    "cnn_smote = CNN(n_classes).to(device=device)\n",
    "# Loss function for the CNN\n",
    "loss_function_cnn_smote = nn.CrossEntropyLoss()\n",
    "# Adam optimization parameters\n",
    "lr_cnn_smote = 0.001\n",
    "betas_cnn_smote = (0.9, 0.999)\n",
    "\n",
    "optimizer_cnn_smote = torch.optim.Adam(cnn_smote.parameters(), lr=lr_cnn_smote, betas = betas_cnn_smote)"
   ]
  },
  {
   "cell_type": "code",
   "execution_count": null,
   "id": "59496d23-eebb-4540-82f4-95274650abd4",
   "metadata": {},
   "outputs": [],
   "source": [
    "%%time\n",
    "\n",
    "# Error metrics at initialisation\n",
    "\n",
    "losses_train_cnn_smote     = np.zeros(n_epoch_cnn+1)\n",
    "accuracies_train_cnn_smote = np.zeros(n_epoch_cnn+1)\n",
    "accuracies_test_cnn_smote  = np.zeros(n_epoch_cnn+1)\n",
    "\n",
    "evaluate_raw_performances(cnn_smote, smote_train_loader, test_loader, smote_train_n_batches, test_n_batches,\n",
    "                          losses_train_cnn_smote, accuracies_train_cnn_smote, accuracies_test_cnn_smote, \n",
    "                          loss_function_cnn_smote, optimizer_cnn_smote)\n",
    "\n",
    "print()"
   ]
  },
  {
   "cell_type": "code",
   "execution_count": null,
   "id": "9742b31f-ee66-43ce-9144-864af6279294",
   "metadata": {},
   "outputs": [],
   "source": [
    "%%time\n",
    "train_cnn(cnn_smote, smote_train_loader, test_loader, smote_train_n_batches, test_n_batches,\n",
    "          losses_train_cnn_smote, accuracies_train_cnn_smote, accuracies_test_cnn_smote, \n",
    "          loss_function_cnn_smote, optimizer_cnn_smote,n_epoch_cnn)\n",
    "\n",
    "print()\n",
    "torch.cuda.empty_cache() "
   ]
  },
  {
   "cell_type": "code",
   "execution_count": null,
   "id": "d6b1c91e-a28d-4379-a1d3-efa51e7d33b3",
   "metadata": {},
   "outputs": [],
   "source": []
  }
 ],
 "metadata": {
  "kernelspec": {
   "display_name": "Python 3 (ipykernel)",
   "language": "python",
   "name": "python3"
  },
  "language_info": {
   "codemirror_mode": {
    "name": "ipython",
    "version": 3
   },
   "file_extension": ".py",
   "mimetype": "text/x-python",
   "name": "python",
   "nbconvert_exporter": "python",
   "pygments_lexer": "ipython3",
   "version": "3.9.13"
  }
 },
 "nbformat": 4,
 "nbformat_minor": 5
}
