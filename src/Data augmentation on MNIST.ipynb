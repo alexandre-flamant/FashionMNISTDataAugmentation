{
 "cells": [
  {
   "cell_type": "code",
   "execution_count": 1,
   "id": "8f96ce03",
   "metadata": {},
   "outputs": [],
   "source": [
    "import os\n",
    "\n",
    "import numpy as np\n",
    "import scipy as sc\n",
    "import pandas as pd\n",
    "\n",
    "import torch\n",
    "#from tensorflow import keras\n",
    "\n",
    "import matplotlib.pyplot as plt"
   ]
  },
  {
   "cell_type": "markdown",
   "id": "0573313e",
   "metadata": {},
   "source": [
    "# Extract and list files in dataset\n",
    "Dataset is stored in an archives so it can be uploaded to github.\n",
    "The archive is created in the data/fashionMNIST directory which is created if it does not exists.\n",
    "\n",
    "The notebook also create directories in which save figures and models."
   ]
  },
  {
   "cell_type": "code",
   "execution_count": 2,
   "id": "0c9cbdf5",
   "metadata": {},
   "outputs": [],
   "source": [
    "!mkdir -p ../data/fashionMNIST\n",
    "!unzip -nqq ../data/fashionMNIST.zip -d ../data/fashionMNIST/\n",
    "\n",
    "!mkdir -p ../figures\n",
    "!mkdir -p ../models"
   ]
  },
  {
   "cell_type": "code",
   "execution_count": 3,
   "id": "513d8f22",
   "metadata": {},
   "outputs": [
    {
     "name": "stdout",
     "output_type": "stream",
     "text": [
      "Files in dataset:\n",
      "\n",
      "../data/fashionMNIST/fashion-mnist_test.csv\n",
      "../data/fashionMNIST/fashion-mnist_train.csv\n",
      "../data/fashionMNIST/t10k-images-idx3-ubyte\n",
      "../data/fashionMNIST/t10k-labels-idx1-ubyte\n",
      "../data/fashionMNIST/train-images-idx3-ubyte\n",
      "../data/fashionMNIST/train-labels-idx1-ubyte\n"
     ]
    }
   ],
   "source": [
    "print(\"Files in dataset:\\n\")\n",
    "\n",
    "for directory, _, filenames in os.walk(\"../data/fashionMNIST/\"):\n",
    "    for filename in filenames:\n",
    "        print(os.path.join(directory, filename))\n",
    "        "
   ]
  },
  {
   "cell_type": "markdown",
   "id": "f30240c5",
   "metadata": {},
   "source": [
    "# Read dataset\n",
    "\n",
    "Read the dataset from the data/fashionMNIST directory"
   ]
  },
  {
   "cell_type": "code",
   "execution_count": 4,
   "id": "d57fe8fb",
   "metadata": {},
   "outputs": [],
   "source": [
    "# Useful constants\n",
    "img_shape = (28,28)"
   ]
  },
  {
   "cell_type": "code",
   "execution_count": 5,
   "id": "3549e1ab",
   "metadata": {},
   "outputs": [
    {
     "name": "stdout",
     "output_type": "stream",
     "text": [
      "Reading train dataset...Done\n",
      "label vector size: 500\n",
      "imgs matrix size:  500x784\n",
      "\n",
      "\n",
      "Reading test dataset...Done.\n",
      "label vector size: 100\n",
      "imgs matrix size:  100x784\n"
     ]
    }
   ],
   "source": [
    "# Reduce the dataset size\n",
    "train_size = 500\n",
    "test_size = 100\n",
    "\n",
    "# Reading dataset\n",
    "print(\"Reading train dataset...\",end='')\n",
    "_ = np.genfromtxt(\"../data/fashionMNIST/fashion-mnist_train.csv\", delimiter=',', skip_header=1, max_rows=train_size)\n",
    "train_set = {'labels': _[:, 0],\n",
    "             'imgs'  : _[:, 1:]}\n",
    "print(f\"Done\")\n",
    "print(f\"label vector size: {train_set['labels'].shape[0]}\")\n",
    "print(f\"imgs matrix size:  {train_set['imgs'].shape[0]}x{train_set['imgs'].shape[1]}\")\n",
    "\n",
    "print(\"\\n\\nReading test dataset...\",end='')\n",
    "_ = np.genfromtxt(\"../data/fashionMNIST/fashion-mnist_test.csv\", delimiter=',', skip_header=1, max_rows=test_size)\n",
    "test_set = {'labels': _[:, 0],\n",
    "            'imgs'  : _[:, 1:]}\n",
    "print(f\"Done.\")\n",
    "print(f\"label vector size: {test_set['labels'].shape[0]}\")\n",
    "print(f\"imgs matrix size:  {test_set['imgs'].shape[0]}x{test_set['imgs'].shape[1]}\")\n",
    "\n",
    "del _"
   ]
  },
  {
   "cell_type": "markdown",
   "id": "a632931a",
   "metadata": {},
   "source": [
    "# Helper functions\n",
    "\n",
    "Here are the implementation of some usefull functions"
   ]
  },
  {
   "cell_type": "code",
   "execution_count": 6,
   "id": "dd35859c",
   "metadata": {},
   "outputs": [],
   "source": [
    "def showimg(img, ax=None, shape=(28, 28), cmap='plasma', title=\"\", fontsize=15, axis=False, savefig=True, savedir=None):\n",
    "    if ax is None: _, ax = plt.subplots()\n",
    "    if not axis: ax.axis('off')\n",
    "        \n",
    "    img = img.reshape(shape)\n",
    "    ax.imshow(img, cmap=cmap)\n",
    "    ax.set_title(title, fontsize=fontsize)\n",
    "    \n",
    "    if savefig and filename is not None: plt.savefig(f\"{filename}{savedir}.png\")"
   ]
  },
  {
   "cell_type": "code",
   "execution_count": 7,
   "id": "0b12ab20",
   "metadata": {},
   "outputs": [],
   "source": [
    "def showimgpanel(imgs, n_imgs, panelshape, figsize=(15,15), \n",
    "                 labels=None, labels_prefix=\"Label : \",\n",
    "                 title=\"\", fontsize_title=30, fontsize_label=15, \n",
    "                 savefig=True, savedir=None):\n",
    "    x,y = panelshape\n",
    "    n_imgs = min(imgs.shape[0], n_imgs, x*y)\n",
    "    \n",
    "    fig = plt.figure(figsize = figsize)\n",
    "    fig.suptitle(title, fontsize = fontsize_title)\n",
    "    fig.subplots_adjust(wspace=0.1, hspace=0.2)\n",
    "    \n",
    "    for i in range(n_imgs):\n",
    "        ax = fig.add_subplot(x, y, i+1)\n",
    "        img = imgs[i]\n",
    "        \n",
    "        if labels is None: label = ''\n",
    "        else: label = labels_prefix + str(int(labels[i]))\n",
    "        \n",
    "        showimg(img, ax, title=label, fontsize=fontsize_label, savefig=False)            \n",
    "        \n",
    "    if savefig and filename is not None: plt.savefig(f\"{savedir}{title}.png\")\n",
    "    "
   ]
  },
  {
   "cell_type": "markdown",
   "id": "30f7651e-8d1b-46c0-aa67-b09f99a4e372",
   "metadata": {},
   "source": [
    "# Model definition\n",
    "Here we will define the architecture of our models"
   ]
  },
  {
   "cell_type": "code",
   "execution_count": null,
   "id": "f9feb9f6-f082-4af8-b1dc-e358d038217f",
   "metadata": {},
   "outputs": [],
   "source": []
  }
 ],
 "metadata": {
  "kernelspec": {
   "display_name": "Python 3 (ipykernel)",
   "language": "python",
   "name": "python3"
  },
  "language_info": {
   "codemirror_mode": {
    "name": "ipython",
    "version": 3
   },
   "file_extension": ".py",
   "mimetype": "text/x-python",
   "name": "python",
   "nbconvert_exporter": "python",
   "pygments_lexer": "ipython3",
   "version": "3.9.13"
  }
 },
 "nbformat": 4,
 "nbformat_minor": 5
}
