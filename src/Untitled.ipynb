{
 "cells": [
  {
   "cell_type": "code",
   "execution_count": 7,
   "id": "a4d95097-343e-4c25-b9d1-58e8160fad7c",
   "metadata": {},
   "outputs": [],
   "source": [
    "import numpy as np\n",
    "\n",
    "import torch\n",
    "from torch import nn\n",
    "from torch.nn import functional as F\n",
    "from torch.utils.data import Dataset\n",
    "\n",
    "from functorch import vmap\n",
    "\n",
    "import torchvision\n",
    "\n",
    "import torchvision.transforms as transforms\n",
    "import torchvision.transforms.functional as FN\n",
    "\n",
    "import matplotlib.pyplot as plt\n",
    "from matplotlib.ticker import FormatStrFormatter, MaxNLocator\n",
    "\n",
    "_ = torch.manual_seed(42)"
   ]
  },
  {
   "cell_type": "code",
   "execution_count": 8,
   "id": "a37cf6ed-2dae-489f-abdd-430436e95e8e",
   "metadata": {},
   "outputs": [],
   "source": [
    "img = np.array([[0., 1., 0.],\n",
    "                [1., 1., 0.],\n",
    "                [0., 1., 0.]])"
   ]
  },
  {
   "cell_type": "code",
   "execution_count": 18,
   "id": "d2ddb3d4-4428-4f48-929c-af57cee8f4f5",
   "metadata": {},
   "outputs": [
    {
     "name": "stdout",
     "output_type": "stream",
     "text": [
      "torch.Size([2, 5])\n",
      "torch.Size([2, 5])\n"
     ]
    },
    {
     "data": {
      "text/plain": [
       "tensor([-1.0887, -4.7382, -0.2130,  0.4163, -0.2589])"
      ]
     },
     "execution_count": 18,
     "metadata": {},
     "output_type": "execute_result"
    }
   ],
   "source": [
    "torch.dot                            # [D], [D] -> []\n",
    "batched_dot = vmap(torch.dot, in_dims=1)  # [N, D], [N, D] -> [N]\n",
    "x, y = torch.randn(2, 5), torch.randn(2, 5)\n",
    "print(x.shape)\n",
    "print(y.shape)\n",
    "batched_dot(x, y)"
   ]
  },
  {
   "cell_type": "code",
   "execution_count": null,
   "id": "e617b0c6-93fb-4844-9e22-0e7787e02b84",
   "metadata": {},
   "outputs": [],
   "source": [
    "def random_rotate(img, max_angle):\n",
    "    angle = np.random.rand() * 2. * max_angle - max_angle \n",
    "    return FN.rotate(img, angle, interpolation=transforms.InterpolationMode.BILINEAR, fill=-1)\n",
    "f = vmap(random_rotate, in_dims=2) "
   ]
  }
 ],
 "metadata": {
  "kernelspec": {
   "display_name": "Python 3 (ipykernel)",
   "language": "python",
   "name": "python3"
  },
  "language_info": {
   "codemirror_mode": {
    "name": "ipython",
    "version": 3
   },
   "file_extension": ".py",
   "mimetype": "text/x-python",
   "name": "python",
   "nbconvert_exporter": "python",
   "pygments_lexer": "ipython3",
   "version": "3.9.13"
  }
 },
 "nbformat": 4,
 "nbformat_minor": 5
}
