{
 "cells": [
  {
   "cell_type": "code",
   "execution_count": 31,
   "id": "6510e665-2d75-4394-a506-2566b200a1d1",
   "metadata": {},
   "outputs": [],
   "source": [
    "import os\n",
    "\n",
    "import numpy as np\n",
    "import scipy as sc\n",
    "import pandas as pd\n",
    "\n",
    "import torch\n",
    "from torch.utils.data import Dataset\n",
    "from torch import nn\n",
    "import torch.nn.functional as F\n",
    "\n",
    "import torchvision\n",
    "import torchvision.transforms as transforms\n",
    "\n",
    "import matplotlib.pyplot as plt\n",
    "from matplotlib.ticker import FormatStrFormatter, MaxNLocator\n",
    "\n",
    "_ = torch.manual_seed(42)"
   ]
  },
  {
   "cell_type": "code",
   "execution_count": 13,
   "id": "ab29f887-f841-480e-95be-ef4ab7be701b",
   "metadata": {},
   "outputs": [],
   "source": [
    "normalize = transforms.Normalize((0.5), (0.5))\n",
    "transform = transforms.Compose([transforms.ToTensor(), normalize])\n",
    "\n",
    "\n",
    "full_train_set = torchvision.datasets.FashionMNIST(root=\"../data/\", train=True, download=True, transform=transform)\n",
    "full_train_set_size = len(full_train_set)\n",
    "\n",
    "test_set = torchvision.datasets.FashionMNIST(root=\"../data/\", train=False, download=True, transform=transform)\n",
    "test_set_size = len(test_set)"
   ]
  },
  {
   "cell_type": "code",
   "execution_count": 49,
   "id": "f44d4a20-67dc-48cb-8785-653a135e56f4",
   "metadata": {},
   "outputs": [],
   "source": [
    "class ReducedFashionMNISTDataset(Dataset):\n",
    "    \"\"\"\n",
    "    Custom reduced dataset class for workflow logic\n",
    "    \"\"\"\n",
    "    \n",
    "    def __init__(self, data, target, classes):\n",
    "        \"\"\"\n",
    "        Args:\n",
    "            data (tensor): The data\n",
    "            target (tensor): The target class of the data\n",
    "            classes (string list): Ordered list of the classes represented by target\n",
    "        \"\"\"\n",
    "        self.data = data\n",
    "        self.target = target\n",
    "        self.classes = classes\n",
    "        \n",
    "    def __len__(self):\n",
    "        return len(self.data)\n",
    "    \n",
    "    def __getitem__(self, idx):\n",
    "        if torch.is_tensor(idx):\n",
    "            idx = idc.tolist()\n",
    "        return (self.data[idx], self.labels[ids],)\n",
    "    \n",
    "    def __repr__(self):\n",
    "        return f'Dataset Reduced FashionMNIST\\n    Number of datapoints: {self.__len__()}'\n",
    "    \n",
    "    def __str__(self):\n",
    "        return self.__repr__()"
   ]
  },
  {
   "cell_type": "code",
   "execution_count": 172,
   "id": "98b7415f-5383-40b5-b0ee-f7ba9195ec0e",
   "metadata": {},
   "outputs": [],
   "source": [
    "reduction_factor = 0.001 # Ratio of the full train set used in the reduced one\n",
    "\n",
    "indices = np.random.choice(np.arange(full_train_set_size), int(full_train_set_size*reduction_factor) ,replace=False)\n",
    "\n",
    "# Normalize the data\n",
    "red_data = full_train_set.data[indices].double()\n",
    "red_data /= red_data.max() - red_data.min()\n",
    "red_data = 2. * red_data - 1.\n",
    "\n",
    "red_labels = full_train_set.targets[indices]\n",
    "\n",
    "del indices # Free some memory\n",
    "\n",
    "reduced_train_set = ReducedFashionMNISTDataset(red_data, red_labels, full_train_set.classes)"
   ]
  }
 ],
 "metadata": {
  "kernelspec": {
   "display_name": "Python 3 (ipykernel)",
   "language": "python",
   "name": "python3"
  },
  "language_info": {
   "codemirror_mode": {
    "name": "ipython",
    "version": 3
   },
   "file_extension": ".py",
   "mimetype": "text/x-python",
   "name": "python",
   "nbconvert_exporter": "python",
   "pygments_lexer": "ipython3",
   "version": "3.9.13"
  }
 },
 "nbformat": 4,
 "nbformat_minor": 5
}
