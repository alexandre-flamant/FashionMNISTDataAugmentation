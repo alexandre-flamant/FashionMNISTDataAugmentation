{
 "cells": [
  {
   "cell_type": "code",
   "execution_count": 1,
   "id": "6510e665-2d75-4394-a506-2566b200a1d1",
   "metadata": {},
   "outputs": [],
   "source": [
    "import os\n",
    "\n",
    "import numpy as np\n",
    "import scipy as sc\n",
    "import pandas as pd\n",
    "\n",
    "import torch\n",
    "from torch.utils.data import Dataset\n",
    "from torch import nn\n",
    "import torch.nn.functional as F\n",
    "\n",
    "import torchvision\n",
    "import torchvision.transforms as transforms\n",
    "\n",
    "import matplotlib.pyplot as plt\n",
    "from matplotlib.ticker import FormatStrFormatter, MaxNLocator\n",
    "\n",
    "_ = torch.manual_seed(42)"
   ]
  },
  {
   "cell_type": "code",
   "execution_count": 2,
   "id": "ab29f887-f841-480e-95be-ef4ab7be701b",
   "metadata": {},
   "outputs": [
    {
     "name": "stdout",
     "output_type": "stream",
     "text": [
      "Downloading http://fashion-mnist.s3-website.eu-central-1.amazonaws.com/train-images-idx3-ubyte.gz\n",
      "Downloading http://fashion-mnist.s3-website.eu-central-1.amazonaws.com/train-images-idx3-ubyte.gz to ../data/FashionMNIST/raw/train-images-idx3-ubyte.gz\n"
     ]
    },
    {
     "data": {
      "application/vnd.jupyter.widget-view+json": {
       "model_id": "e67242e6a7ab4741bfabd0ccd4be4e6c",
       "version_major": 2,
       "version_minor": 0
      },
      "text/plain": [
       "  0%|          | 0/26421880 [00:00<?, ?it/s]"
      ]
     },
     "metadata": {},
     "output_type": "display_data"
    },
    {
     "name": "stdout",
     "output_type": "stream",
     "text": [
      "Extracting ../data/FashionMNIST/raw/train-images-idx3-ubyte.gz to ../data/FashionMNIST/raw\n",
      "\n",
      "Downloading http://fashion-mnist.s3-website.eu-central-1.amazonaws.com/train-labels-idx1-ubyte.gz\n",
      "Downloading http://fashion-mnist.s3-website.eu-central-1.amazonaws.com/train-labels-idx1-ubyte.gz to ../data/FashionMNIST/raw/train-labels-idx1-ubyte.gz\n"
     ]
    },
    {
     "data": {
      "application/vnd.jupyter.widget-view+json": {
       "model_id": "1c8c7578932f46aeb5afae8876bb7ca4",
       "version_major": 2,
       "version_minor": 0
      },
      "text/plain": [
       "  0%|          | 0/29515 [00:00<?, ?it/s]"
      ]
     },
     "metadata": {},
     "output_type": "display_data"
    },
    {
     "name": "stdout",
     "output_type": "stream",
     "text": [
      "Extracting ../data/FashionMNIST/raw/train-labels-idx1-ubyte.gz to ../data/FashionMNIST/raw\n",
      "\n",
      "Downloading http://fashion-mnist.s3-website.eu-central-1.amazonaws.com/t10k-images-idx3-ubyte.gz\n",
      "Downloading http://fashion-mnist.s3-website.eu-central-1.amazonaws.com/t10k-images-idx3-ubyte.gz to ../data/FashionMNIST/raw/t10k-images-idx3-ubyte.gz\n"
     ]
    },
    {
     "data": {
      "application/vnd.jupyter.widget-view+json": {
       "model_id": "8b1c6cf8d8d74c67a818738418eac6bd",
       "version_major": 2,
       "version_minor": 0
      },
      "text/plain": [
       "  0%|          | 0/4422102 [00:00<?, ?it/s]"
      ]
     },
     "metadata": {},
     "output_type": "display_data"
    },
    {
     "name": "stdout",
     "output_type": "stream",
     "text": [
      "Extracting ../data/FashionMNIST/raw/t10k-images-idx3-ubyte.gz to ../data/FashionMNIST/raw\n",
      "\n",
      "Downloading http://fashion-mnist.s3-website.eu-central-1.amazonaws.com/t10k-labels-idx1-ubyte.gz\n",
      "Downloading http://fashion-mnist.s3-website.eu-central-1.amazonaws.com/t10k-labels-idx1-ubyte.gz to ../data/FashionMNIST/raw/t10k-labels-idx1-ubyte.gz\n"
     ]
    },
    {
     "data": {
      "application/vnd.jupyter.widget-view+json": {
       "model_id": "e0e4b9d5f1904f3d8f1f5c740d2923d6",
       "version_major": 2,
       "version_minor": 0
      },
      "text/plain": [
       "  0%|          | 0/5148 [00:00<?, ?it/s]"
      ]
     },
     "metadata": {},
     "output_type": "display_data"
    },
    {
     "name": "stdout",
     "output_type": "stream",
     "text": [
      "Extracting ../data/FashionMNIST/raw/t10k-labels-idx1-ubyte.gz to ../data/FashionMNIST/raw\n",
      "\n"
     ]
    }
   ],
   "source": [
    "normalize = transforms.Normalize((0.5), (0.5))\n",
    "transform = transforms.Compose([transforms.ToTensor(), normalize])\n",
    "\n",
    "\n",
    "full_train_set = torchvision.datasets.FashionMNIST(root=\"../data/\", train=True, download=True, transform=transform)\n",
    "full_train_set_size = len(full_train_set)\n",
    "\n",
    "test_set = torchvision.datasets.FashionMNIST(root=\"../data/\", train=False, download=True, transform=transform)\n",
    "test_set_size = len(test_set)"
   ]
  },
  {
   "cell_type": "code",
   "execution_count": 3,
   "id": "f44d4a20-67dc-48cb-8785-653a135e56f4",
   "metadata": {},
   "outputs": [],
   "source": [
    "class ReducedFashionMNISTDataset(Dataset):\n",
    "    \"\"\"\n",
    "    Custom reduced dataset class for workflow logic\n",
    "    \"\"\"\n",
    "    \n",
    "    def __init__(self, data, target, classes):\n",
    "        \"\"\"\n",
    "        Args:\n",
    "            data (tensor): The data\n",
    "            target (tensor): The target class of the data\n",
    "            classes (string list): Ordered list of the classes represented by target\n",
    "        \"\"\"\n",
    "        self.data = data\n",
    "        self.target = target\n",
    "        self.classes = classes\n",
    "        \n",
    "    def __len__(self):\n",
    "        return len(self.data)\n",
    "    \n",
    "    def __getitem__(self, idx):\n",
    "        if torch.is_tensor(idx):\n",
    "            idx = idc.tolist()\n",
    "        return (self.data[idx], self.labels[ids],)\n",
    "    \n",
    "    def __repr__(self):\n",
    "        return f'Dataset Reduced FashionMNIST\\n    Number of datapoints: {self.__len__()}'\n",
    "    \n",
    "    def __str__(self):\n",
    "        return self.__repr__()"
   ]
  },
  {
   "cell_type": "code",
   "execution_count": 4,
   "id": "98b7415f-5383-40b5-b0ee-f7ba9195ec0e",
   "metadata": {},
   "outputs": [],
   "source": [
    "reduction_factor = 0.001 # Ratio of the full train set used in the reduced one\n",
    "\n",
    "indices = np.random.choice(np.arange(full_train_set_size), int(full_train_set_size*reduction_factor) ,replace=False)\n",
    "\n",
    "# Normalize the data\n",
    "red_data = full_train_set.data[indices].double()\n",
    "red_data /= red_data.max() - red_data.min()\n",
    "red_data = 2. * red_data - 1.\n",
    "\n",
    "red_labels = full_train_set.targets[indices]\n",
    "\n",
    "del indices # Free some memory\n",
    "\n",
    "reduced_train_set = ReducedFashionMNISTDataset(red_data, red_labels, full_train_set.classes)"
   ]
  },
  {
   "cell_type": "code",
   "execution_count": null,
   "id": "c23fcc30",
   "metadata": {},
   "outputs": [],
   "source": []
  }
 ],
 "metadata": {
  "kernelspec": {
   "display_name": "Python 3 (ipykernel)",
   "language": "python",
   "name": "python3"
  },
  "language_info": {
   "codemirror_mode": {
    "name": "ipython",
    "version": 3
   },
   "file_extension": ".py",
   "mimetype": "text/x-python",
   "name": "python",
   "nbconvert_exporter": "python",
   "pygments_lexer": "ipython3",
   "version": "3.9.12"
  }
 },
 "nbformat": 4,
 "nbformat_minor": 5
}
